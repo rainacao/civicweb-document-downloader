{
 "cells": [
  {
   "cell_type": "code",
   "execution_count": 144,
   "metadata": {},
   "outputs": [],
   "source": [
    "# package imports\n",
    "import requests\n",
    "from bs4 import BeautifulSoup\n",
    "from selenium import webdriver\n",
    "from selenium.webdriver.common.by import By\n",
    "\n",
    "from pathlib import Path\n",
    "\n",
    "import re\n",
    "import pandas as pd\n",
    "import logging\n",
    "import traceback\n",
    "\n",
    "# from joblib import Memory\n",
    "from collections import deque\n",
    "import time\n",
    "from datetime import datetime\n",
    "import mimetypes\n",
    "from pprint import pprint\n"
   ]
  },
  {
   "cell_type": "code",
   "execution_count": 190,
   "metadata": {},
   "outputs": [],
   "source": [
    "# @memory.cache\n",
    "# def fetch_webpage(url, headers=HEADERS):\n",
    "#     try:\n",
    "#         response = requests.get(url, headers=headers)\n",
    "#         return response\n",
    "#     except Exception as e:\n",
    "#         logger.error(e)\n",
    "#         return None\n",
    "\n",
    "def fetch_webpage(url, headers=HEADERS):\n",
    "    response = requests.get(url, headers=headers)\n",
    "    response.raise_for_status() # raise exception if response was not successful\n",
    "    return response\n",
    "    \n",
    "# def get_soup(url_append, root_url=root_url, headers=HEADERS):\n",
    "#     url = root_url + url_append\n",
    "#     # TODO: implement caching using joblib\n",
    "#     # cached_result = cache.get('html:%s' % url)\n",
    "#     # if cached_result:\n",
    "#     #     return cached_result\n",
    "#     print(f\"Getting BeautifulSoup object from {url}\")\n",
    "#     try:\n",
    "#         response = requests.get(url, headers=headers)\n",
    "#         # cache.set('html:%s' % url, page)\n",
    "#         bs = BeautifulSoup(response.content,'html.parser')\n",
    "#         return bs\n",
    "#     except Exception as e:\n",
    "#         print(\"Error: \", e)\n",
    "#         return None\n",
    "    \n",
    "# def get_item(bs:BeautifulSoup, items, parent_path=\"/\", is_folder=True):\n",
    "#     ''' \n",
    "#     parent_path (str):\n",
    "#         The path to the current folder, relative to the root of the website. Must start with a slash. At least one slash is required to indicate the root of the website.\n",
    "#     '''\n",
    "#     if is_folder:\n",
    "#         class_str = 'folder-link'\n",
    "#     else:\n",
    "#         class_str = 'file-link'\n",
    "\n",
    "#     for item in bs.find_all(\"a\", class_=class_str):\n",
    "#         if item.get('href') not in [i[\"url\"] for i in items]:\n",
    "#             item_info  = {\n",
    "#                 \"name\": item.text, \n",
    "#                 \"url\": item.get('href'), \n",
    "#                 \"parent_path\": parent_path\n",
    "#             }\n",
    "#             items.append(item_info)\n",
    "#     return items\n",
    "    \n",
    "def get_folders(bs:BeautifulSoup, folders:deque, parent_url:str, parent):\n",
    "    ''' \n",
    "    parents : list(str)\n",
    "        List of the folders on the path to the current folder, relative to the root of the website. parent_path[0] should be the first folder on the path, and parent_path[-1] is the current folder. parent_path=[] indicates that the folder belongs to the root.\n",
    "    '''\n",
    "    logger.debug(\"folder parents: %s\", parent)\n",
    "    for folder in bs.find_all(\"a\", class_='folder-link'):\n",
    "        folder_info = {\n",
    "                \"name\": folder.text.strip(), \n",
    "                \"url\": folder.get('href'),\n",
    "                \"parent\": parent,\n",
    "                \"parent_url\": parent_url\n",
    "            }\n",
    "        logger.debug(f\"{folder}\")\n",
    "\n",
    "        if folder.get('href') not in [f[\"url\"] for f in folders]:\n",
    "            logger.debug(\"Adding to folders deque to visit\")\n",
    "            folders.append(folder_info)\n",
    "    return folders\n",
    "\n",
    "def get_items(bs:BeautifulSoup, parent_url:str, parent=[], is_folder=True)->list[dict]:\n",
    "    ''' \n",
    "    Return a list of dictionaries containing information for each item in the current folder. Items are either documents or folders.\n",
    "    \n",
    "    Parameters\n",
    "    ----------\n",
    "    bs: BeautifulSoup\n",
    "        The BeautifulSoup object to parse. Should be the documents site for a website under the civicweb.net domain.\n",
    "    parent_url : str\n",
    "        The url of the current folder. This is the url appended onto the root of the website, and should start with \"/\".\n",
    "    parent : list(str)\n",
    "        List of the folders on the path to the current item, relative to the root of the website. parent[0] should be the first folder on the path, and parent[-1] is the current folder. parent=[] indicates that the folder belongs to the root.\n",
    "    is_folder  : bool\n",
    "        Whether or not the current folder is a folder (True) or a document (False).\n",
    "    \n",
    "    Returns\n",
    "    -------\n",
    "    items : list[dict]\n",
    "        A list of dictionaries containing information for each item in the current folder. Each dictionary contains the following keys:\n",
    "        - name : The name of the item.\n",
    "        - url : The url of the item.\n",
    "        - parent_url : The url of the parent folder.\n",
    "        - parent : A list of the folders on the path to the current item.\n",
    "    '''\n",
    "    logger.debug(\"folder parent: %s\", parent)\n",
    "\n",
    "    child_items = []\n",
    "    if is_folder: \n",
    "        item_class = \"folder-link\" \n",
    "    else: \n",
    "        item_class = \"document-link\" \n",
    "\n",
    "    for item in bs.find_all(\"a\", class_=item_class):\n",
    "        item_info = {\n",
    "                \"name\": item.text.strip(), \n",
    "                \"url\": item.get('href'),\n",
    "                \"parent\": parent,\n",
    "                \"parent_url\": parent_url\n",
    "            }\n",
    "        logger.debug(f\"Found {item_class} with name {item_info['name']} (url: {item_info['url']}) in directory at {'/'.join(item_info['parent'])} (url: {parent_url}).\")\n",
    "        child_items.append(item_info)\n",
    "    return child_items\n",
    "\n",
    "def get_documents(bs:BeautifulSoup, documents:list, parent_url:str, parent:list):\n",
    "    for doc in bs.find_all(\"a\", class_='document-link'):\n",
    "        document_info = {\n",
    "                \"name\": doc.text.strip(),\n",
    "                \"url\": doc[\"href\"],\n",
    "                \"parent\": parent,\n",
    "                \"parent_url\": parent_url\n",
    "            }\n",
    "        logger.debug(f\"Found document with name {document_info['name']} in {'/'.join(document_info['parent'])}, fetched from {document_info['url']}\")\n",
    "        if doc.get('href') not in [d[\"url\"] for d in documents]:\n",
    "            logger.debug(f\"Adding {document_info['name']} to documents list to download later\")\n",
    "            documents.append(document_info)\n",
    "    return documents\n",
    "\n",
    "def get_filetype(response:requests) -> tuple[str, str]:\n",
    "    ''' \n",
    "    Returns the extension and file type (MIME notation) of a response object based on its Content-Type header.\n",
    "    '''\n",
    "    header_mimetype = response.headers['Content-Type']\n",
    "\n",
    "    # remove mimetype parameter if it exists\n",
    "    if \";\" in header_mimetype:\n",
    "        header_mimetype = header_mimetype.split(\";\")[0]\n",
    "    extension = mimetypes.guess_extension(header_mimetype)\n",
    "\n",
    "    # raise error if file extension cannot be guessed from response\n",
    "    if extension is None or extension == \"\":\n",
    "        logger.warning(\"Could not determine file type for response\")\n",
    "        raise TypeError(f\"Could not determine file type\")\n",
    "    \n",
    "    return extension, header_mimetype\n",
    "\n",
    "# def format_output_path(parents:list, subdomain=\"\", out_folder=Path.cwd() / \"out\"):\n",
    "#     '''\n",
    "#     Formats the output path of the file to be downloaded. The output path will separate the file by subdomain and preserve the file structure from the scraped website.\n",
    "\n",
    "#     parents : list(str)\n",
    "#         The list of directories that the file is in from the root folder of the main website.\n",
    "#     subdomain : str, optional\n",
    "#         The subdomain of the website to be scraped from. Defaults to \"\". Used to separate scraped content into specific folders within the out_path.\n",
    "#     '''\n",
    "#     return out_folder.joinpath(subdomain, *parents)\n",
    "\n",
    "def download_file(response:requests, filename:str,  out_path=Path.cwd() / \"out\"):\n",
    "    ''' \n",
    "    Downloads a PDF file from the given response.\n",
    "    \n",
    "    Parameters\n",
    "    ----------\n",
    "    response : requests.Response\n",
    "        The response object.\n",
    "    filename : str\n",
    "        The name of the file being downloaded. Should include the extension.\n",
    "    \n",
    "    out_path : Path, optional\n",
    "        The path where the file should be saved on the disk, as a pathlib Path object. Defaults to a folder in the current working directory named \"out\". Does not need to exist.\n",
    "    '''\n",
    "    # out_path = Path(__file__).parent / out_path / subdomain / Path(*parents) / name + \".pdf\" # use Path.cwd() for Jupyter Notebook\n",
    "\n",
    "    out_path.mkdir(parents=True, exist_ok=True) # ensure directories leading up to the output file path exist\n",
    "    with open(out_path / filename, \"wb\") as f:\n",
    "        f.write(response.content)\n",
    "        f.close()"
   ]
  },
  {
   "cell_type": "code",
   "execution_count": 119,
   "metadata": {},
   "outputs": [],
   "source": [
    "logging.basicConfig(format='%(asctime)s - %(levelname)s:%(message)s', datefmt='%Y-%m-%d %H:%M:%S')\n",
    "logger = logging.getLogger(__name__)\n",
    "logger.setLevel(logging.DEBUG)\n",
    "# logger.setLevel(logging.INFO)"
   ]
  },
  {
   "cell_type": "code",
   "execution_count": 120,
   "metadata": {},
   "outputs": [],
   "source": [
    "import requests_cache\n",
    "\n",
    "requests_cache.install_cache('scraper_cache', backend='sqlite', expire_after=3600*24*14)"
   ]
  },
  {
   "cell_type": "code",
   "execution_count": 130,
   "metadata": {},
   "outputs": [],
   "source": [
    "HEADERS = {'User-Agent': 'Mozilla/5.0 (Macintosh; Intel Mac OS X 10_13_6) AppleWebKit/537.36 (KHTML, like Gecko) Chrome/84.0.4147.125 Safari/537.36'}"
   ]
  },
  {
   "cell_type": "code",
   "execution_count": null,
   "metadata": {},
   "outputs": [],
   "source": [
    "# requests_cache.clear() "
   ]
  },
  {
   "cell_type": "code",
   "execution_count": null,
   "metadata": {},
   "outputs": [],
   "source": [
    "# cachedir = './cache' \n",
    "# memory = Memory(cachedir, verbose=0)"
   ]
  },
  {
   "cell_type": "markdown",
   "metadata": {},
   "source": [
    "# finding all the subdomains\n"
   ]
  },
  {
   "cell_type": "code",
   "execution_count": null,
   "metadata": {},
   "outputs": [],
   "source": [
    "# 'https://winchesterva.civicweb.net'"
   ]
  },
  {
   "cell_type": "markdown",
   "metadata": {},
   "source": [
    "#### using bing search API"
   ]
  },
  {
   "cell_type": "code",
   "execution_count": null,
   "metadata": {},
   "outputs": [],
   "source": [
    "from dotenv import load_dotenv\n",
    "\n",
    "load_dotenv()"
   ]
  },
  {
   "cell_type": "code",
   "execution_count": null,
   "metadata": {},
   "outputs": [],
   "source": [
    "API_KEY = \"\"\n",
    "api_header = {\n",
    "    \"Ocp-Anim-Subscription-Key\": API_KEY,\n",
    "}"
   ]
  },
  {
   "cell_type": "code",
   "execution_count": null,
   "metadata": {},
   "outputs": [],
   "source": [
    "bing_api_url = 'https://api.bing.microsoft.com/v7.0/search'"
   ]
  },
  {
   "cell_type": "code",
   "execution_count": null,
   "metadata": {},
   "outputs": [],
   "source": [
    "api_query = {\n",
    "    \"q\": \"site:civicweb.net\", # or 'site%3acivicweb.net'\n",
    "    \"mkt\": \"en-CA\", # for results from Canada; referenced from https://learn.microsoft.com/en-us/bing/search-apis/bing-web-search/reference/market-codes\n",
    "    # \"count\": 50,\n",
    "    # \"offset\": 0,\n",
    "}"
   ]
  },
  {
   "cell_type": "code",
   "execution_count": null,
   "metadata": {},
   "outputs": [],
   "source": []
  },
  {
   "cell_type": "markdown",
   "metadata": {},
   "source": [
    "#### using selenium"
   ]
  },
  {
   "cell_type": "code",
   "execution_count": 160,
   "metadata": {},
   "outputs": [],
   "source": [
    "HEADERS1={\"User-Agent\":\"Mozilla/5.0 (Windows NT 10.0; Win64; x64) AppleWebKit/537.36 (KHTML, like Gecko) Chrome/107.0.0.0 Safari/537.36\"}"
   ]
  },
  {
   "cell_type": "code",
   "execution_count": 159,
   "metadata": {},
   "outputs": [],
   "source": [
    "scraped_links = []"
   ]
  },
  {
   "cell_type": "code",
   "execution_count": 176,
   "metadata": {},
   "outputs": [],
   "source": [
    "driver = webdriver.Firefox()\n",
    "\n",
    "for i in range(10):\n",
    "    # time.sleep(1)\n",
    "    page_number = 1+i*10 # default number of searches per bing page is 10\n",
    "    bing_url = f'https://www.bing.com/search?q=site%3acivicweb.net&first={page_number}' # search with query\n",
    "\n",
    "    driver.get(bing_url)\n",
    "    links = driver.find_elements(by=By.TAG_NAME, value=\"cite\")\n",
    "\n",
    "    for link in links:\n",
    "        scraped_links.append(link.text)"
   ]
  },
  {
   "cell_type": "code",
   "execution_count": 177,
   "metadata": {},
   "outputs": [
    {
     "data": {
      "text/plain": [
       "['https://victoria.civicweb.net/Portal/Welcome.aspx',\n",
       " 'governmentjobs.com',\n",
       " 'tender.victoria.ca',\n",
       " 'melbourneflorida.org',\n",
       " 'victoriatx.gov',\n",
       " 'ci.victoria.mn.us',\n",
       " 'https://victoria.civicweb.net/Portal',\n",
       " 'victoria.civicweb.net',\n",
       " 'victoria.civicweb.net',\n",
       " 'https://tay.civicweb.net/Portal',\n",
       " 'https://terrace.civicweb.net/Portal/Default.aspx',\n",
       " 'https://cityofshawnee.civicweb.net/portal',\n",
       " 'https://loyalist.civicweb.net/portal',\n",
       " 'https://victoria.civicweb.net/user/signin',\n",
       " 'https://wetaskiwin.civicweb.net/Portal/Default.aspx',\n",
       " 'https://mclendon-chisholm.civicweb.net/Portal',\n",
       " 'https://revelstoke.civicweb.net/portal',\n",
       " 'https://victoria.civicweb.net/Portal',\n",
       " 'https://victoria.civicweb.net/Portal/Welcome.aspx',\n",
       " 'https://kamloops.civicweb.net/Portal/Default.aspx',\n",
       " 'https://cityofjerseycity.civicweb.net/Portal',\n",
       " 'https://wifn.civicweb.net/portal',\n",
       " 'https://nngov.civicweb.net/portal/members.aspx?id=10',\n",
       " 'https://centralelgin.civicweb.net',\n",
       " 'https://revelstoke.civicweb.net/portal',\n",
       " 'https://millcreek.civicweb.net/Portal',\n",
       " 'https://hartford.civicweb.net/Portal',\n",
       " 'https://otonabeesouthmonaghan.civicweb.net/Portal',\n",
       " 'https://greatermadawaska.civicweb.net/Portal/Welcome.aspx',\n",
       " 'https://springwater.civicweb.net/Portal',\n",
       " 'https://westnewyorknj.civicweb.net/Portal/Welcome.aspx',\n",
       " 'https://centralelgin.civicweb.net',\n",
       " 'https://lewes.civicweb.net/Portal',\n",
       " 'https://cityofshawnee.civicweb.net/portal',\n",
       " 'https://opkansas.civicweb.net/Portal',\n",
       " 'https://nngov.civicweb.net/portal/members.aspx?id=10',\n",
       " 'https://orillia.civicweb.net/Portal/Default.aspx',\n",
       " 'https://sequimwa.civicweb.net',\n",
       " 'https://loyalist.civicweb.net/portal',\n",
       " 'https://lawrenceks.civicweb.net/portal/members.aspx?id=10',\n",
       " 'https://powellriver.civicweb.net/Portal/MeetingSchedule.aspx',\n",
       " 'https://mclendon-chisholm.civicweb.net/Portal',\n",
       " 'https://sammamishwa.civicweb.net/Portal',\n",
       " 'https://peoriagov.civicweb.net/Portal/Video.aspx',\n",
       " 'https://marmoraandlake.civicweb.net/portal',\n",
       " 'https://cityofalice.civicweb.net/Portal/Default.aspx',\n",
       " 'https://wifn.civicweb.net/Portal/MeetingTypeList.aspx',\n",
       " 'https://cityofjerseycity.civicweb.net/Portal',\n",
       " 'https://countygp.civicweb.net/Portal',\n",
       " 'https://selkirk.civicweb.net/Portal',\n",
       " 'https://southfrontenac.civicweb.net/Portal',\n",
       " 'https://cloquet.civicweb.net',\n",
       " 'https://pinecitygovoffice.civicweb.net/Portal',\n",
       " 'https://wifn.civicweb.net/portal',\n",
       " 'https://sphosp.civicweb.net/user',\n",
       " 'https://centrewellington.civicweb.net/Portal',\n",
       " 'https://dallascounty.civicweb.net/Portal/VirtualLibrary.aspx',\n",
       " 'https://highriver.civicweb.net/filepro/document/48474/2024- spring-summer_ community...',\n",
       " 'https://citwentynine-palmsca.civicweb.net/portal',\n",
       " 'https://dallascounty.civicweb.net/portal',\n",
       " 'https://osoyoos.civicweb.net/filepro/documents/135633',\n",
       " 'https://ramara.civicweb.net/portal',\n",
       " 'https://terrace.civicweb.net/portal/members.aspx?id=11',\n",
       " 'https://petrolia.civicweb.net/Portal',\n",
       " 'https://timmins.civicweb.net/document/167053/ADM-2024-07-09-Admin Report-Housing …',\n",
       " 'https://williamsnd.civicweb.net/Portal',\n",
       " 'https://lacenter.civicweb.net/Portal',\n",
       " 'https://lawrenceks.civicweb.net/Portal/MeetingInformation.aspx?Org=Cal&Id=5599',\n",
       " 'https://codb.civicweb.net/Portal',\n",
       " 'https://woonsocketri.civicweb.net/portal',\n",
       " 'https://revelstoke.civicweb.net/portal',\n",
       " 'https://powellriver.civicweb.net/Portal',\n",
       " 'https://covinaca.civicweb.net/Portal',\n",
       " 'https://stlouisco.civicweb.net/portal/members.aspx?id=10',\n",
       " 'https://cityofholland.civicweb.net/Portal',\n",
       " 'https://tay.civicweb.net/Portal',\n",
       " 'https://cityofalice.civicweb.net/user',\n",
       " 'https://mindenhills.civicweb.net/Portal/MeetingTypeList.aspx',\n",
       " 'https://waverly.civicweb.net/Portal',\n",
       " 'https://englewoodgov.civicweb.net/Portal',\n",
       " 'https://winnipegsdca.civicweb.net/Portal/Welcome.aspx',\n",
       " 'https://washingtoncounty.civicweb.net/portal/members.aspx?id=10',\n",
       " 'https://timmins.civicweb.net/document/165147/PLN-2024-06-18-Admin Report-Tiny Hom…',\n",
       " 'https://hearst.civicweb.net/portal',\n",
       " 'https://kamloops.civicweb.net/portal',\n",
       " 'https://cityofbelmont.civicweb.net/portal',\n",
       " 'https://severn.civicweb.net/Portal/MeetingTypeList.aspx',\n",
       " 'https://lillooettribalcouncil.civicweb.net',\n",
       " 'https://stonemills.civicweb.net/portal',\n",
       " 'https://muskoka.civicweb.net/filepro/documents',\n",
       " 'https://codb.civicweb.net/Portal/Default.aspx',\n",
       " 'https://cityofrehoboth.civicweb.net/portal',\n",
       " 'https://walton.civicweb.net/Portal/MeetingSchedule.aspx',\n",
       " 'https://peachland.civicweb.net/filepro/documents/89371/?preview=89372',\n",
       " 'https://honeybrooktwp.civicweb.net/user/signin',\n",
       " 'https://cocookmn.civicweb.net/Portal',\n",
       " 'https://delta.civicweb.net/filepro/documents/224970',\n",
       " 'https://terrace.civicweb.net/Portal/Default.aspx',\n",
       " 'https://ponoka.civicweb.net/filepro/documents',\n",
       " 'https://kamloops.civicweb.net/Portal/MeetingSchedule.aspx',\n",
       " 'https://powellriver.civicweb.net/Portal/MeetingTypeList.aspx',\n",
       " 'https://cityofrehoboth.civicweb.net/filepro/documents',\n",
       " 'https://victoria.civicweb.net/Portal/Welcome.aspx',\n",
       " 'https://oakbay.civicweb.net/portal',\n",
       " 'https://hemetca.civicweb.net',\n",
       " 'https://victoria.civicweb.net/Portal',\n",
       " 'https://nr.civicweb.net/Portal',\n",
       " 'https://voluntown.civicweb.net/Portal/Default.aspx',\n",
       " 'https://strathmore.civicweb.net',\n",
       " 'https://cityofbowietx.civicweb.net',\n",
       " 'https://stlouisco.civicweb.net/Portal/Welcome.aspx',\n",
       " 'https://delavan.civicweb.net/portal',\n",
       " 'https://covinaca.civicweb.net/Portal/Welcome.aspx',\n",
       " 'https://indio.civicweb.net/Portal',\n",
       " 'https://camrose.civicweb.net/Portal/Default.aspx',\n",
       " 'https://hartford.civicweb.net/Portal',\n",
       " 'https://bracebridge.civicweb.net/document/15808']"
      ]
     },
     "execution_count": 177,
     "metadata": {},
     "output_type": "execute_result"
    }
   ],
   "source": [
    "scraped_links"
   ]
  },
  {
   "cell_type": "code",
   "execution_count": 179,
   "metadata": {},
   "outputs": [],
   "source": [
    "subdomain_list = []"
   ]
  },
  {
   "cell_type": "code",
   "execution_count": 180,
   "metadata": {},
   "outputs": [
    {
     "name": "stderr",
     "output_type": "stream",
     "text": [
      "2024-07-27 15:57:08 - DEBUG:found site https://victoria.civicweb.net/Portal/Welcome.aspx\n",
      "2024-07-27 15:57:08 - DEBUG:found site https://victoria.civicweb.net/Portal\n",
      "2024-07-27 15:57:08 - DEBUG:found site victoria.civicweb.net\n",
      "2024-07-27 15:57:08 - DEBUG:found site victoria.civicweb.net\n",
      "2024-07-27 15:57:08 - DEBUG:found site https://tay.civicweb.net/Portal\n",
      "2024-07-27 15:57:08 - DEBUG:found site https://terrace.civicweb.net/Portal/Default.aspx\n",
      "2024-07-27 15:57:08 - DEBUG:found site https://cityofshawnee.civicweb.net/portal\n",
      "2024-07-27 15:57:08 - DEBUG:found site https://loyalist.civicweb.net/portal\n",
      "2024-07-27 15:57:08 - DEBUG:found site https://victoria.civicweb.net/user/signin\n",
      "2024-07-27 15:57:08 - DEBUG:found site https://wetaskiwin.civicweb.net/Portal/Default.aspx\n",
      "2024-07-27 15:57:08 - DEBUG:found site https://mclendon-chisholm.civicweb.net/Portal\n",
      "2024-07-27 15:57:08 - DEBUG:found site https://revelstoke.civicweb.net/portal\n",
      "2024-07-27 15:57:08 - DEBUG:found site https://victoria.civicweb.net/Portal\n",
      "2024-07-27 15:57:08 - DEBUG:found site https://victoria.civicweb.net/Portal/Welcome.aspx\n",
      "2024-07-27 15:57:08 - DEBUG:found site https://kamloops.civicweb.net/Portal/Default.aspx\n",
      "2024-07-27 15:57:08 - DEBUG:found site https://cityofjerseycity.civicweb.net/Portal\n",
      "2024-07-27 15:57:08 - DEBUG:found site https://wifn.civicweb.net/portal\n",
      "2024-07-27 15:57:08 - DEBUG:found site https://nngov.civicweb.net/portal/members.aspx?id=10\n",
      "2024-07-27 15:57:08 - DEBUG:found site https://centralelgin.civicweb.net\n",
      "2024-07-27 15:57:08 - DEBUG:found site https://revelstoke.civicweb.net/portal\n",
      "2024-07-27 15:57:08 - DEBUG:found site https://millcreek.civicweb.net/Portal\n",
      "2024-07-27 15:57:08 - DEBUG:found site https://hartford.civicweb.net/Portal\n",
      "2024-07-27 15:57:08 - DEBUG:found site https://otonabeesouthmonaghan.civicweb.net/Portal\n",
      "2024-07-27 15:57:08 - DEBUG:found site https://greatermadawaska.civicweb.net/Portal/Welcome.aspx\n",
      "2024-07-27 15:57:08 - DEBUG:found site https://springwater.civicweb.net/Portal\n",
      "2024-07-27 15:57:08 - DEBUG:found site https://westnewyorknj.civicweb.net/Portal/Welcome.aspx\n",
      "2024-07-27 15:57:08 - DEBUG:found site https://centralelgin.civicweb.net\n",
      "2024-07-27 15:57:08 - DEBUG:found site https://lewes.civicweb.net/Portal\n",
      "2024-07-27 15:57:08 - DEBUG:found site https://cityofshawnee.civicweb.net/portal\n",
      "2024-07-27 15:57:08 - DEBUG:found site https://opkansas.civicweb.net/Portal\n",
      "2024-07-27 15:57:08 - DEBUG:found site https://nngov.civicweb.net/portal/members.aspx?id=10\n",
      "2024-07-27 15:57:08 - DEBUG:found site https://orillia.civicweb.net/Portal/Default.aspx\n",
      "2024-07-27 15:57:08 - DEBUG:found site https://sequimwa.civicweb.net\n",
      "2024-07-27 15:57:08 - DEBUG:found site https://loyalist.civicweb.net/portal\n",
      "2024-07-27 15:57:08 - DEBUG:found site https://lawrenceks.civicweb.net/portal/members.aspx?id=10\n",
      "2024-07-27 15:57:08 - DEBUG:found site https://powellriver.civicweb.net/Portal/MeetingSchedule.aspx\n",
      "2024-07-27 15:57:08 - DEBUG:found site https://mclendon-chisholm.civicweb.net/Portal\n",
      "2024-07-27 15:57:08 - DEBUG:found site https://sammamishwa.civicweb.net/Portal\n",
      "2024-07-27 15:57:08 - DEBUG:found site https://peoriagov.civicweb.net/Portal/Video.aspx\n",
      "2024-07-27 15:57:08 - DEBUG:found site https://marmoraandlake.civicweb.net/portal\n",
      "2024-07-27 15:57:08 - DEBUG:found site https://cityofalice.civicweb.net/Portal/Default.aspx\n",
      "2024-07-27 15:57:08 - DEBUG:found site https://wifn.civicweb.net/Portal/MeetingTypeList.aspx\n",
      "2024-07-27 15:57:08 - DEBUG:found site https://cityofjerseycity.civicweb.net/Portal\n",
      "2024-07-27 15:57:08 - DEBUG:found site https://countygp.civicweb.net/Portal\n",
      "2024-07-27 15:57:08 - DEBUG:found site https://selkirk.civicweb.net/Portal\n",
      "2024-07-27 15:57:08 - DEBUG:found site https://southfrontenac.civicweb.net/Portal\n",
      "2024-07-27 15:57:08 - DEBUG:found site https://cloquet.civicweb.net\n",
      "2024-07-27 15:57:08 - DEBUG:found site https://pinecitygovoffice.civicweb.net/Portal\n",
      "2024-07-27 15:57:08 - DEBUG:found site https://wifn.civicweb.net/portal\n",
      "2024-07-27 15:57:08 - DEBUG:found site https://sphosp.civicweb.net/user\n",
      "2024-07-27 15:57:08 - DEBUG:found site https://centrewellington.civicweb.net/Portal\n",
      "2024-07-27 15:57:08 - DEBUG:found site https://dallascounty.civicweb.net/Portal/VirtualLibrary.aspx\n",
      "2024-07-27 15:57:08 - DEBUG:found site https://highriver.civicweb.net/filepro/document/48474/2024- spring-summer_ community...\n",
      "2024-07-27 15:57:08 - DEBUG:found site https://citwentynine-palmsca.civicweb.net/portal\n",
      "2024-07-27 15:57:08 - DEBUG:found site https://dallascounty.civicweb.net/portal\n",
      "2024-07-27 15:57:08 - DEBUG:found site https://osoyoos.civicweb.net/filepro/documents/135633\n",
      "2024-07-27 15:57:08 - DEBUG:found site https://ramara.civicweb.net/portal\n",
      "2024-07-27 15:57:08 - DEBUG:found site https://terrace.civicweb.net/portal/members.aspx?id=11\n",
      "2024-07-27 15:57:08 - DEBUG:found site https://petrolia.civicweb.net/Portal\n",
      "2024-07-27 15:57:08 - DEBUG:found site https://timmins.civicweb.net/document/167053/ADM-2024-07-09-Admin Report-Housing …\n",
      "2024-07-27 15:57:08 - DEBUG:found site https://williamsnd.civicweb.net/Portal\n",
      "2024-07-27 15:57:08 - DEBUG:found site https://lacenter.civicweb.net/Portal\n",
      "2024-07-27 15:57:08 - DEBUG:found site https://lawrenceks.civicweb.net/Portal/MeetingInformation.aspx?Org=Cal&Id=5599\n",
      "2024-07-27 15:57:08 - DEBUG:found site https://codb.civicweb.net/Portal\n",
      "2024-07-27 15:57:08 - DEBUG:found site https://woonsocketri.civicweb.net/portal\n",
      "2024-07-27 15:57:08 - DEBUG:found site https://revelstoke.civicweb.net/portal\n",
      "2024-07-27 15:57:08 - DEBUG:found site https://powellriver.civicweb.net/Portal\n",
      "2024-07-27 15:57:08 - DEBUG:found site https://covinaca.civicweb.net/Portal\n",
      "2024-07-27 15:57:08 - DEBUG:found site https://stlouisco.civicweb.net/portal/members.aspx?id=10\n",
      "2024-07-27 15:57:08 - DEBUG:found site https://cityofholland.civicweb.net/Portal\n",
      "2024-07-27 15:57:08 - DEBUG:found site https://tay.civicweb.net/Portal\n",
      "2024-07-27 15:57:08 - DEBUG:found site https://cityofalice.civicweb.net/user\n",
      "2024-07-27 15:57:08 - DEBUG:found site https://mindenhills.civicweb.net/Portal/MeetingTypeList.aspx\n",
      "2024-07-27 15:57:08 - DEBUG:found site https://waverly.civicweb.net/Portal\n",
      "2024-07-27 15:57:08 - DEBUG:found site https://englewoodgov.civicweb.net/Portal\n",
      "2024-07-27 15:57:08 - DEBUG:found site https://winnipegsdca.civicweb.net/Portal/Welcome.aspx\n",
      "2024-07-27 15:57:08 - DEBUG:found site https://washingtoncounty.civicweb.net/portal/members.aspx?id=10\n",
      "2024-07-27 15:57:08 - DEBUG:found site https://timmins.civicweb.net/document/165147/PLN-2024-06-18-Admin Report-Tiny Hom…\n",
      "2024-07-27 15:57:08 - DEBUG:found site https://hearst.civicweb.net/portal\n",
      "2024-07-27 15:57:08 - DEBUG:found site https://kamloops.civicweb.net/portal\n",
      "2024-07-27 15:57:08 - DEBUG:found site https://cityofbelmont.civicweb.net/portal\n",
      "2024-07-27 15:57:08 - DEBUG:found site https://severn.civicweb.net/Portal/MeetingTypeList.aspx\n",
      "2024-07-27 15:57:08 - DEBUG:found site https://lillooettribalcouncil.civicweb.net\n",
      "2024-07-27 15:57:08 - DEBUG:found site https://stonemills.civicweb.net/portal\n",
      "2024-07-27 15:57:08 - DEBUG:found site https://muskoka.civicweb.net/filepro/documents\n",
      "2024-07-27 15:57:08 - DEBUG:found site https://codb.civicweb.net/Portal/Default.aspx\n",
      "2024-07-27 15:57:08 - DEBUG:found site https://cityofrehoboth.civicweb.net/portal\n",
      "2024-07-27 15:57:08 - DEBUG:found site https://walton.civicweb.net/Portal/MeetingSchedule.aspx\n",
      "2024-07-27 15:57:08 - DEBUG:found site https://peachland.civicweb.net/filepro/documents/89371/?preview=89372\n",
      "2024-07-27 15:57:08 - DEBUG:found site https://honeybrooktwp.civicweb.net/user/signin\n",
      "2024-07-27 15:57:08 - DEBUG:found site https://cocookmn.civicweb.net/Portal\n",
      "2024-07-27 15:57:08 - DEBUG:found site https://delta.civicweb.net/filepro/documents/224970\n",
      "2024-07-27 15:57:08 - DEBUG:found site https://terrace.civicweb.net/Portal/Default.aspx\n",
      "2024-07-27 15:57:08 - DEBUG:found site https://ponoka.civicweb.net/filepro/documents\n",
      "2024-07-27 15:57:08 - DEBUG:found site https://kamloops.civicweb.net/Portal/MeetingSchedule.aspx\n",
      "2024-07-27 15:57:08 - DEBUG:found site https://powellriver.civicweb.net/Portal/MeetingTypeList.aspx\n",
      "2024-07-27 15:57:08 - DEBUG:found site https://cityofrehoboth.civicweb.net/filepro/documents\n",
      "2024-07-27 15:57:08 - DEBUG:found site https://victoria.civicweb.net/Portal/Welcome.aspx\n",
      "2024-07-27 15:57:08 - DEBUG:found site https://oakbay.civicweb.net/portal\n",
      "2024-07-27 15:57:08 - DEBUG:found site https://hemetca.civicweb.net\n",
      "2024-07-27 15:57:08 - DEBUG:found site https://victoria.civicweb.net/Portal\n",
      "2024-07-27 15:57:08 - DEBUG:found site https://nr.civicweb.net/Portal\n",
      "2024-07-27 15:57:08 - DEBUG:found site https://voluntown.civicweb.net/Portal/Default.aspx\n",
      "2024-07-27 15:57:08 - DEBUG:found site https://strathmore.civicweb.net\n",
      "2024-07-27 15:57:08 - DEBUG:found site https://cityofbowietx.civicweb.net\n",
      "2024-07-27 15:57:08 - DEBUG:found site https://stlouisco.civicweb.net/Portal/Welcome.aspx\n",
      "2024-07-27 15:57:08 - DEBUG:found site https://delavan.civicweb.net/portal\n",
      "2024-07-27 15:57:08 - DEBUG:found site https://covinaca.civicweb.net/Portal/Welcome.aspx\n",
      "2024-07-27 15:57:08 - DEBUG:found site https://indio.civicweb.net/Portal\n",
      "2024-07-27 15:57:08 - DEBUG:found site https://camrose.civicweb.net/Portal/Default.aspx\n",
      "2024-07-27 15:57:08 - DEBUG:found site https://hartford.civicweb.net/Portal\n",
      "2024-07-27 15:57:08 - DEBUG:found site https://bracebridge.civicweb.net/document/15808\n"
     ]
    }
   ],
   "source": [
    "for link in scraped_links:\n",
    "    if \"civicweb.net\" in link:\n",
    "        logger.debug(f\"found site {link}\")\n",
    "        subdomain = link.split(\".civicweb.net\")[0].split(\"https://\")[-1]\n",
    "        if subdomain not in subdomain_list:\n",
    "            subdomain_list.append(subdomain)"
   ]
  },
  {
   "cell_type": "code",
   "execution_count": 181,
   "metadata": {},
   "outputs": [
    {
     "name": "stdout",
     "output_type": "stream",
     "text": [
      "['victoria',\n",
      " 'tay',\n",
      " 'terrace',\n",
      " 'cityofshawnee',\n",
      " 'loyalist',\n",
      " 'wetaskiwin',\n",
      " 'mclendon-chisholm',\n",
      " 'revelstoke',\n",
      " 'kamloops',\n",
      " 'cityofjerseycity',\n",
      " 'wifn',\n",
      " 'nngov',\n",
      " 'centralelgin',\n",
      " 'millcreek',\n",
      " 'hartford',\n",
      " 'otonabeesouthmonaghan',\n",
      " 'greatermadawaska',\n",
      " 'springwater',\n",
      " 'westnewyorknj',\n",
      " 'lewes',\n",
      " 'opkansas',\n",
      " 'orillia',\n",
      " 'sequimwa',\n",
      " 'lawrenceks',\n",
      " 'powellriver',\n",
      " 'sammamishwa',\n",
      " 'peoriagov',\n",
      " 'marmoraandlake',\n",
      " 'cityofalice',\n",
      " 'countygp',\n",
      " 'selkirk',\n",
      " 'southfrontenac',\n",
      " 'cloquet',\n",
      " 'pinecitygovoffice',\n",
      " 'sphosp',\n",
      " 'centrewellington',\n",
      " 'dallascounty',\n",
      " 'highriver',\n",
      " 'citwentynine-palmsca',\n",
      " 'osoyoos',\n",
      " 'ramara',\n",
      " 'petrolia',\n",
      " 'timmins',\n",
      " 'williamsnd',\n",
      " 'lacenter',\n",
      " 'codb',\n",
      " 'woonsocketri',\n",
      " 'covinaca',\n",
      " 'stlouisco',\n",
      " 'cityofholland',\n",
      " 'mindenhills',\n",
      " 'waverly',\n",
      " 'englewoodgov',\n",
      " 'winnipegsdca',\n",
      " 'washingtoncounty',\n",
      " 'hearst',\n",
      " 'cityofbelmont',\n",
      " 'severn',\n",
      " 'lillooettribalcouncil',\n",
      " 'stonemills',\n",
      " 'muskoka',\n",
      " 'cityofrehoboth',\n",
      " 'walton',\n",
      " 'peachland',\n",
      " 'honeybrooktwp',\n",
      " 'cocookmn',\n",
      " 'delta',\n",
      " 'ponoka',\n",
      " 'oakbay',\n",
      " 'hemetca',\n",
      " 'nr',\n",
      " 'voluntown',\n",
      " 'strathmore',\n",
      " 'cityofbowietx',\n",
      " 'delavan',\n",
      " 'indio',\n",
      " 'camrose',\n",
      " 'bracebridge']\n",
      "78\n"
     ]
    }
   ],
   "source": [
    "pprint(subdomain_list)\n",
    "print(len(subdomain_list))"
   ]
  },
  {
   "cell_type": "code",
   "execution_count": 197,
   "metadata": {},
   "outputs": [
    {
     "name": "stderr",
     "output_type": "stream",
     "text": [
      "2024-07-27 16:39:23 - DEBUG:https://victoria.civicweb.net has a documents page, adding to valid subdomains list\n",
      "2024-07-27 16:39:23 - DEBUG:https://tay.civicweb.net has a documents page, adding to valid subdomains list\n",
      "2024-07-27 16:39:23 - DEBUG:https://terrace.civicweb.net has a documents page, adding to valid subdomains list\n",
      "2024-07-27 16:39:23 - DEBUG:https://cityofshawnee.civicweb.net has a documents page, adding to valid subdomains list\n",
      "2024-07-27 16:39:23 - DEBUG:https://loyalist.civicweb.net has a documents page, adding to valid subdomains list\n",
      "2024-07-27 16:39:23 - DEBUG:https://wetaskiwin.civicweb.net has a documents page, adding to valid subdomains list\n",
      "2024-07-27 16:39:23 - DEBUG:https://mclendon-chisholm.civicweb.net has a documents page, adding to valid subdomains list\n",
      "2024-07-27 16:39:23 - DEBUG:https://revelstoke.civicweb.net has a documents page, adding to valid subdomains list\n",
      "2024-07-27 16:39:23 - DEBUG:https://kamloops.civicweb.net has a documents page, adding to valid subdomains list\n",
      "2024-07-27 16:39:23 - DEBUG:https://cityofjerseycity.civicweb.net has a documents page, adding to valid subdomains list\n",
      "2024-07-27 16:39:23 - DEBUG:https://wifn.civicweb.net has a documents page, adding to valid subdomains list\n",
      "2024-07-27 16:39:23 - DEBUG:https://nngov.civicweb.net has a documents page, adding to valid subdomains list\n",
      "2024-07-27 16:39:23 - DEBUG:https://centralelgin.civicweb.net has a documents page, adding to valid subdomains list\n",
      "2024-07-27 16:39:23 - DEBUG:https://millcreek.civicweb.net has a documents page, adding to valid subdomains list\n",
      "2024-07-27 16:39:23 - DEBUG:https://hartford.civicweb.net has a documents page, adding to valid subdomains list\n",
      "2024-07-27 16:39:23 - DEBUG:https://otonabeesouthmonaghan.civicweb.net has a documents page, adding to valid subdomains list\n",
      "2024-07-27 16:39:23 - DEBUG:https://greatermadawaska.civicweb.net has a documents page, adding to valid subdomains list\n",
      "2024-07-27 16:39:23 - DEBUG:https://springwater.civicweb.net has a documents page, adding to valid subdomains list\n",
      "2024-07-27 16:39:23 - DEBUG:https://westnewyorknj.civicweb.net has a documents page, adding to valid subdomains list\n",
      "2024-07-27 16:39:23 - DEBUG:https://lewes.civicweb.net has a documents page, adding to valid subdomains list\n",
      "2024-07-27 16:39:23 - DEBUG:https://opkansas.civicweb.net has a documents page, adding to valid subdomains list\n",
      "2024-07-27 16:39:23 - DEBUG:https://orillia.civicweb.net has a documents page, adding to valid subdomains list\n",
      "2024-07-27 16:39:23 - DEBUG:https://sequimwa.civicweb.net has a documents page, adding to valid subdomains list\n",
      "2024-07-27 16:39:23 - DEBUG:https://lawrenceks.civicweb.net has a documents page, adding to valid subdomains list\n",
      "2024-07-27 16:39:23 - DEBUG:https://powellriver.civicweb.net has a documents page, adding to valid subdomains list\n",
      "2024-07-27 16:39:23 - DEBUG:https://sammamishwa.civicweb.net has a documents page, adding to valid subdomains list\n",
      "2024-07-27 16:39:23 - DEBUG:https://peoriagov.civicweb.net has a documents page, adding to valid subdomains list\n",
      "2024-07-27 16:39:23 - DEBUG:https://marmoraandlake.civicweb.net has a documents page, adding to valid subdomains list\n",
      "2024-07-27 16:39:23 - DEBUG:https://cityofalice.civicweb.net has a documents page, adding to valid subdomains list\n",
      "2024-07-27 16:39:23 - DEBUG:https://countygp.civicweb.net has a documents page, adding to valid subdomains list\n",
      "2024-07-27 16:39:23 - DEBUG:https://selkirk.civicweb.net has a documents page, adding to valid subdomains list\n",
      "2024-07-27 16:39:23 - DEBUG:https://southfrontenac.civicweb.net has a documents page, adding to valid subdomains list\n",
      "2024-07-27 16:39:23 - DEBUG:https://cloquet.civicweb.net has a documents page, adding to valid subdomains list\n",
      "2024-07-27 16:39:23 - DEBUG:https://pinecitygovoffice.civicweb.net has a documents page, adding to valid subdomains list\n",
      "2024-07-27 16:39:23 - DEBUG:https://sphosp.civicweb.net has a documents page, adding to valid subdomains list\n",
      "2024-07-27 16:39:23 - DEBUG:https://centrewellington.civicweb.net has a documents page, adding to valid subdomains list\n",
      "2024-07-27 16:39:23 - DEBUG:https://dallascounty.civicweb.net has a documents page, adding to valid subdomains list\n",
      "2024-07-27 16:39:23 - DEBUG:https://highriver.civicweb.net has a documents page, adding to valid subdomains list\n",
      "2024-07-27 16:39:23 - DEBUG:https://citwentynine-palmsca.civicweb.net has a documents page, adding to valid subdomains list\n",
      "2024-07-27 16:39:23 - DEBUG:https://osoyoos.civicweb.net has a documents page, adding to valid subdomains list\n",
      "2024-07-27 16:39:23 - DEBUG:https://ramara.civicweb.net has a documents page, adding to valid subdomains list\n",
      "2024-07-27 16:39:23 - DEBUG:https://petrolia.civicweb.net has a documents page, adding to valid subdomains list\n",
      "2024-07-27 16:39:23 - DEBUG:https://timmins.civicweb.net has a documents page, adding to valid subdomains list\n",
      "2024-07-27 16:39:23 - DEBUG:https://williamsnd.civicweb.net has a documents page, adding to valid subdomains list\n",
      "2024-07-27 16:39:23 - DEBUG:https://lacenter.civicweb.net has a documents page, adding to valid subdomains list\n",
      "2024-07-27 16:39:23 - DEBUG:https://codb.civicweb.net has a documents page, adding to valid subdomains list\n",
      "2024-07-27 16:39:23 - DEBUG:https://woonsocketri.civicweb.net has a documents page, adding to valid subdomains list\n",
      "2024-07-27 16:39:23 - DEBUG:https://covinaca.civicweb.net has a documents page, adding to valid subdomains list\n",
      "2024-07-27 16:39:23 - DEBUG:https://stlouisco.civicweb.net has a documents page, adding to valid subdomains list\n",
      "2024-07-27 16:39:23 - DEBUG:https://cityofholland.civicweb.net has a documents page, adding to valid subdomains list\n",
      "2024-07-27 16:39:23 - DEBUG:https://mindenhills.civicweb.net has a documents page, adding to valid subdomains list\n",
      "2024-07-27 16:39:23 - DEBUG:https://waverly.civicweb.net has a documents page, adding to valid subdomains list\n",
      "2024-07-27 16:39:23 - DEBUG:https://englewoodgov.civicweb.net has a documents page, adding to valid subdomains list\n",
      "2024-07-27 16:39:23 - DEBUG:https://winnipegsdca.civicweb.net has a documents page, adding to valid subdomains list\n",
      "2024-07-27 16:39:23 - DEBUG:https://washingtoncounty.civicweb.net has a documents page, adding to valid subdomains list\n",
      "2024-07-27 16:39:23 - DEBUG:https://hearst.civicweb.net has a documents page, adding to valid subdomains list\n",
      "2024-07-27 16:39:23 - DEBUG:https://cityofbelmont.civicweb.net has a documents page, adding to valid subdomains list\n",
      "2024-07-27 16:39:23 - DEBUG:https://severn.civicweb.net has a documents page, adding to valid subdomains list\n",
      "2024-07-27 16:39:23 - DEBUG:https://lillooettribalcouncil.civicweb.net has a documents page, adding to valid subdomains list\n",
      "2024-07-27 16:39:23 - DEBUG:https://stonemills.civicweb.net has a documents page, adding to valid subdomains list\n",
      "2024-07-27 16:39:23 - DEBUG:https://muskoka.civicweb.net has a documents page, adding to valid subdomains list\n",
      "2024-07-27 16:39:23 - DEBUG:https://cityofrehoboth.civicweb.net has a documents page, adding to valid subdomains list\n",
      "2024-07-27 16:39:23 - DEBUG:https://walton.civicweb.net has a documents page, adding to valid subdomains list\n",
      "2024-07-27 16:39:23 - DEBUG:https://peachland.civicweb.net has a documents page, adding to valid subdomains list\n",
      "2024-07-27 16:39:23 - DEBUG:https://honeybrooktwp.civicweb.net has a documents page, adding to valid subdomains list\n",
      "2024-07-27 16:39:23 - DEBUG:https://cocookmn.civicweb.net has a documents page, adding to valid subdomains list\n",
      "2024-07-27 16:39:23 - DEBUG:https://delta.civicweb.net has a documents page, adding to valid subdomains list\n",
      "2024-07-27 16:39:23 - DEBUG:https://ponoka.civicweb.net has a documents page, adding to valid subdomains list\n",
      "2024-07-27 16:39:23 - DEBUG:https://oakbay.civicweb.net has a documents page, adding to valid subdomains list\n",
      "2024-07-27 16:39:23 - DEBUG:https://hemetca.civicweb.net has a documents page, adding to valid subdomains list\n",
      "2024-07-27 16:39:23 - DEBUG:https://nr.civicweb.net has a documents page, adding to valid subdomains list\n",
      "2024-07-27 16:39:23 - DEBUG:https://voluntown.civicweb.net has a documents page, adding to valid subdomains list\n",
      "2024-07-27 16:39:23 - DEBUG:https://strathmore.civicweb.net has a documents page, adding to valid subdomains list\n",
      "2024-07-27 16:39:23 - DEBUG:https://cityofbowietx.civicweb.net has a documents page, adding to valid subdomains list\n",
      "2024-07-27 16:39:23 - DEBUG:https://delavan.civicweb.net has a documents page, adding to valid subdomains list\n",
      "2024-07-27 16:39:23 - DEBUG:https://indio.civicweb.net has a documents page, adding to valid subdomains list\n",
      "2024-07-27 16:39:23 - DEBUG:https://camrose.civicweb.net has a documents page, adding to valid subdomains list\n",
      "2024-07-27 16:39:23 - DEBUG:https://bracebridge.civicweb.net has a documents page, adding to valid subdomains list\n",
      "2024-07-27 16:39:23 - ERROR:HTTPSConnectionPool(host='https', port=443): Max retries exceeded with url: /affeoiagnjkwanr.civicweb.net.civicweb.net/filepro/documents/ (Caused by NameResolutionError(\"<urllib3.connection.HTTPSConnection object at 0x14fb58250>: Failed to resolve 'https' ([Errno 8] nodename nor servname provided, or not known)\"))\n"
     ]
    }
   ],
   "source": [
    "subdomain_rows = [] # for the dataframe\n",
    "# testing with error\n",
    "subdomains_test = subdomain_list.copy()\n",
    "subdomains_test.append(\"https://grangkrb.civicweb.net\")\n",
    "subdomains_with_documents = [] # valid site to be scraped\n",
    "# for subdomain in subdomain_list:\n",
    "for subdomain in subdomains_test:\n",
    "    root_url = f\"https://{subdomain}.civicweb.net\"\n",
    "    error = \"\"\n",
    "    num_documents = 0\n",
    "    # subdomain = root_url.split(\"https://\")[-1].split(\".civicweb.net\")[0]\n",
    "    # if subdomain returns code 200 and text is not empty, add to list of sites to scrape\n",
    "    try:\n",
    "        response = fetch_webpage(url=root_url+\"/filepro/documents/\") # get the url of the documents hub\n",
    "        logger.debug(f\"{root_url} has a documents page, adding to valid subdomains list\")\n",
    "        subdomains_with_documents.append(subdomain)\n",
    "    except Exception as e:\n",
    "        logger.error(e)\n",
    "        error += str(e)\n",
    "        continue\n",
    "    finally:\n",
    "        subdomain_info = {\n",
    "            \"subdomain\": subdomain, \n",
    "            \"root_url\": root_url, \n",
    "            \"date_scraped\": datetime.now().strftime(\"%Y-%m-%d %H:%M:%S\"),\n",
    "            \"'error_in_accessing'\": error,\n",
    "        }\n",
    "        subdomain_rows.append(subdomain_info)"
   ]
  },
  {
   "cell_type": "code",
   "execution_count": 198,
   "metadata": {},
   "outputs": [],
   "source": [
    "pd.DataFrame(subdomain_rows).to_csv(OUT_FOLDER / \"scraped_subdomains_test.csv\")"
   ]
  },
  {
   "cell_type": "code",
   "execution_count": 199,
   "metadata": {},
   "outputs": [
    {
     "data": {
      "text/html": [
       "<div>\n",
       "<style scoped>\n",
       "    .dataframe tbody tr th:only-of-type {\n",
       "        vertical-align: middle;\n",
       "    }\n",
       "\n",
       "    .dataframe tbody tr th {\n",
       "        vertical-align: top;\n",
       "    }\n",
       "\n",
       "    .dataframe thead th {\n",
       "        text-align: right;\n",
       "    }\n",
       "</style>\n",
       "<table border=\"1\" class=\"dataframe\">\n",
       "  <thead>\n",
       "    <tr style=\"text-align: right;\">\n",
       "      <th></th>\n",
       "      <th>subdomain</th>\n",
       "      <th>root_url</th>\n",
       "      <th>date_scraped</th>\n",
       "      <th>'error'</th>\n",
       "    </tr>\n",
       "  </thead>\n",
       "  <tbody>\n",
       "    <tr>\n",
       "      <th>0</th>\n",
       "      <td>victoria</td>\n",
       "      <td>https://victoria.civicweb.net</td>\n",
       "      <td>2024-07-27 16:39:23</td>\n",
       "      <td>NaN</td>\n",
       "    </tr>\n",
       "    <tr>\n",
       "      <th>1</th>\n",
       "      <td>tay</td>\n",
       "      <td>https://tay.civicweb.net</td>\n",
       "      <td>2024-07-27 16:39:23</td>\n",
       "      <td>NaN</td>\n",
       "    </tr>\n",
       "    <tr>\n",
       "      <th>2</th>\n",
       "      <td>terrace</td>\n",
       "      <td>https://terrace.civicweb.net</td>\n",
       "      <td>2024-07-27 16:39:23</td>\n",
       "      <td>NaN</td>\n",
       "    </tr>\n",
       "    <tr>\n",
       "      <th>3</th>\n",
       "      <td>cityofshawnee</td>\n",
       "      <td>https://cityofshawnee.civicweb.net</td>\n",
       "      <td>2024-07-27 16:39:23</td>\n",
       "      <td>NaN</td>\n",
       "    </tr>\n",
       "    <tr>\n",
       "      <th>4</th>\n",
       "      <td>loyalist</td>\n",
       "      <td>https://loyalist.civicweb.net</td>\n",
       "      <td>2024-07-27 16:39:23</td>\n",
       "      <td>NaN</td>\n",
       "    </tr>\n",
       "    <tr>\n",
       "      <th>...</th>\n",
       "      <td>...</td>\n",
       "      <td>...</td>\n",
       "      <td>...</td>\n",
       "      <td>...</td>\n",
       "    </tr>\n",
       "    <tr>\n",
       "      <th>74</th>\n",
       "      <td>delavan</td>\n",
       "      <td>https://delavan.civicweb.net</td>\n",
       "      <td>2024-07-27 16:39:23</td>\n",
       "      <td>NaN</td>\n",
       "    </tr>\n",
       "    <tr>\n",
       "      <th>75</th>\n",
       "      <td>indio</td>\n",
       "      <td>https://indio.civicweb.net</td>\n",
       "      <td>2024-07-27 16:39:23</td>\n",
       "      <td>NaN</td>\n",
       "    </tr>\n",
       "    <tr>\n",
       "      <th>76</th>\n",
       "      <td>camrose</td>\n",
       "      <td>https://camrose.civicweb.net</td>\n",
       "      <td>2024-07-27 16:39:23</td>\n",
       "      <td>NaN</td>\n",
       "    </tr>\n",
       "    <tr>\n",
       "      <th>77</th>\n",
       "      <td>bracebridge</td>\n",
       "      <td>https://bracebridge.civicweb.net</td>\n",
       "      <td>2024-07-27 16:39:23</td>\n",
       "      <td>NaN</td>\n",
       "    </tr>\n",
       "    <tr>\n",
       "      <th>78</th>\n",
       "      <td>https://affeoiagnjkwanr.civicweb.net</td>\n",
       "      <td>https://https://affeoiagnjkwanr.civicweb.net.c...</td>\n",
       "      <td>2024-07-27 16:39:23</td>\n",
       "      <td>HTTPSConnectionPool(host='https', port=443): M...</td>\n",
       "    </tr>\n",
       "  </tbody>\n",
       "</table>\n",
       "<p>79 rows × 4 columns</p>\n",
       "</div>"
      ],
      "text/plain": [
       "                               subdomain  \\\n",
       "0                               victoria   \n",
       "1                                    tay   \n",
       "2                                terrace   \n",
       "3                          cityofshawnee   \n",
       "4                               loyalist   \n",
       "..                                   ...   \n",
       "74                               delavan   \n",
       "75                                 indio   \n",
       "76                               camrose   \n",
       "77                           bracebridge   \n",
       "78  https://affeoiagnjkwanr.civicweb.net   \n",
       "\n",
       "                                             root_url         date_scraped  \\\n",
       "0                       https://victoria.civicweb.net  2024-07-27 16:39:23   \n",
       "1                            https://tay.civicweb.net  2024-07-27 16:39:23   \n",
       "2                        https://terrace.civicweb.net  2024-07-27 16:39:23   \n",
       "3                  https://cityofshawnee.civicweb.net  2024-07-27 16:39:23   \n",
       "4                       https://loyalist.civicweb.net  2024-07-27 16:39:23   \n",
       "..                                                ...                  ...   \n",
       "74                       https://delavan.civicweb.net  2024-07-27 16:39:23   \n",
       "75                         https://indio.civicweb.net  2024-07-27 16:39:23   \n",
       "76                       https://camrose.civicweb.net  2024-07-27 16:39:23   \n",
       "77                   https://bracebridge.civicweb.net  2024-07-27 16:39:23   \n",
       "78  https://https://affeoiagnjkwanr.civicweb.net.c...  2024-07-27 16:39:23   \n",
       "\n",
       "                                              'error'  \n",
       "0                                                 NaN  \n",
       "1                                                 NaN  \n",
       "2                                                 NaN  \n",
       "3                                                 NaN  \n",
       "4                                                 NaN  \n",
       "..                                                ...  \n",
       "74                                                NaN  \n",
       "75                                                NaN  \n",
       "76                                                NaN  \n",
       "77                                                NaN  \n",
       "78  HTTPSConnectionPool(host='https', port=443): M...  \n",
       "\n",
       "[79 rows x 4 columns]"
      ]
     },
     "execution_count": 199,
     "metadata": {},
     "output_type": "execute_result"
    }
   ],
   "source": [
    "subdomains_df = pd.read_csv(OUT_FOLDER / \"scraped_subdomains_test.csv\", index_col=[0])\n",
    "subdomains_df"
   ]
  },
  {
   "cell_type": "code",
   "execution_count": null,
   "metadata": {},
   "outputs": [],
   "source": [
    "driver = webdriver.Firefox()\n",
    "\n",
    "max_page_number = 10 # max number of pages to scrape\n",
    "num_results_per_page = 10 # default number\n",
    "\n",
    "for page_index in range(max_page_number):\n",
    "    # time.sleep(1) # wait for 1 second between each search\n",
    "\n",
    "    # search with query and result page\n",
    "    start_index = 1+page_index*num_results_per_page\n",
    "    logger.info(f\"Scraping page {page_index+1} with results from {start_index} to {start_index+num_results_per_page-1}...\")\n",
    "\n",
    "    bing_url = f'https://www.bing.com/search?q=site%3acivicweb.net&first={start_index}' \n",
    "\n",
    "    # get url of each page result\n",
    "    try:\n",
    "        driver.get(bing_url)\n",
    "        titles = driver.find_elements(by=By.CLASS_NAME, value=\"tptt\")\n",
    "        links = driver.find_elements(by=By.TAG_NAME, value=\"cite\")\n",
    "        snippets = driver.find_elements(by=By.CLASS_NAME, value=\"b_lineclamp4\")\n",
    "\n",
    "        bing_links.extend([{\"bing_search_url\":link, \"title\":title, \"description\":snippet} for (title, link, snippet) in zip(titles, links, snippets)])\n",
    "\n",
    "    except WebDriverException as e:\n",
    "        logger.error(\"Error opening Bing page for scraping: \", str(e))\n",
    "        continue\n",
    "    finally:\n",
    "        driver.quit()\n",
    "    \n",
    "logger.info(f\"Bing scraping finished. Found {len(bing_links)} links.\")"
   ]
  },
  {
   "cell_type": "code",
   "execution_count": null,
   "metadata": {},
   "outputs": [],
   "source": [
    "# subdomain_list = []\n",
    "\n",
    "# for link in scraped_links:\n",
    "#     if \"civicweb.net\" in link:\n",
    "#         subdomain = link.split(\".civicweb.net\")[0].split(\"https://\")[-1]\n",
    "#         if subdomain not in subdomain_list:\n",
    "#             logger.debug(f\"Found new subdomain {subdomain}\")\n",
    "#             subdomain_list.append(subdomain)\n",
    "#     else:\n",
    "#         logger.debug(f\"{link} is ambiguous\")\n",
    "\n",
    "# logger.info(f\"Found {len(subdomain_list)} civicweb.net subdomains.\")"
   ]
  },
  {
   "cell_type": "code",
   "execution_count": 182,
   "metadata": {},
   "outputs": [],
   "source": [
    "# page_number = 1\n",
    "# bing_url = f'https://www.bing.com/search?q=site%3acivicweb.net&first={page_number}'\n",
    "# HEADERS1={\"User-Agent\":\"Mozilla/5.0 (Windows NT 10.0; Win64; x64) AppleWebKit/537.36 (KHTML, like Gecko) Chrome/107.0.0.0 Safari/537.36\"}"
   ]
  },
  {
   "cell_type": "code",
   "execution_count": 183,
   "metadata": {},
   "outputs": [],
   "source": [
    "# driver = webdriver.Firefox()"
   ]
  },
  {
   "cell_type": "code",
   "execution_count": 184,
   "metadata": {},
   "outputs": [],
   "source": [
    "# driver.get(bing_url)"
   ]
  },
  {
   "cell_type": "code",
   "execution_count": 185,
   "metadata": {},
   "outputs": [],
   "source": [
    "# links = driver.find_elements(by=By.TAG_NAME, value=\"cite\")"
   ]
  },
  {
   "cell_type": "code",
   "execution_count": 186,
   "metadata": {},
   "outputs": [],
   "source": [
    "# for link in links:\n",
    "#     print(link.text)\n",
    "#     scraped_links.append(link.text)"
   ]
  },
  {
   "cell_type": "code",
   "execution_count": 189,
   "metadata": {},
   "outputs": [],
   "source": [
    "# scraped_links"
   ]
  },
  {
   "cell_type": "code",
   "execution_count": 187,
   "metadata": {},
   "outputs": [],
   "source": [
    "# for link in scraped_links:\n",
    "#     if \"civicweb.net\" in link:\n",
    "#         print(f\"found site {link}\")\n",
    "#         subdomain = link.split(\".civicweb.net\")[0].split(\"https://\")[-1]\n",
    "#         if subdomain not in subdomain_list:\n",
    "#             subdomain_list.append(subdomain)"
   ]
  },
  {
   "cell_type": "code",
   "execution_count": 188,
   "metadata": {},
   "outputs": [],
   "source": [
    "# subdomain_list"
   ]
  },
  {
   "cell_type": "markdown",
   "metadata": {},
   "source": [
    "#### using requests"
   ]
  },
  {
   "cell_type": "code",
   "execution_count": 136,
   "metadata": {},
   "outputs": [
    {
     "data": {
      "text/plain": [
       "''"
      ]
     },
     "execution_count": 136,
     "metadata": {},
     "output_type": "execute_result"
    }
   ],
   "source": [
    "# response = requests.get(bing_url, headers=HEADERS1)\n",
    "# response.text # returns nothing"
   ]
  },
  {
   "cell_type": "code",
   "execution_count": 126,
   "metadata": {},
   "outputs": [
    {
     "data": {
      "text/plain": [
       "''"
      ]
     },
     "execution_count": 126,
     "metadata": {},
     "output_type": "execute_result"
    }
   ],
   "source": [
    "bs = BeautifulSoup(response.text, 'html.parser')\n",
    "bs.prettify()"
   ]
  },
  {
   "cell_type": "code",
   "execution_count": null,
   "metadata": {},
   "outputs": [],
   "source": []
  },
  {
   "cell_type": "markdown",
   "metadata": {},
   "source": [
    "## processing files on one website"
   ]
  },
  {
   "cell_type": "code",
   "execution_count": null,
   "metadata": {},
   "outputs": [],
   "source": [
    "subdomain = 'pleasantontx'\n",
    "root_url = f\"https://{subdomain}.civicweb.net\"\n",
    "subdomain = root_url.split(\"https://\")[-1].split(\".civicweb.net\")[0]"
   ]
  },
  {
   "cell_type": "code",
   "execution_count": null,
   "metadata": {},
   "outputs": [],
   "source": [
    "folders = deque([]) \n",
    "done_folders = deque([])"
   ]
  },
  {
   "cell_type": "code",
   "execution_count": null,
   "metadata": {},
   "outputs": [],
   "source": [
    "# testpath = Path(\"out\")\n",
    "# testpath = testpath.joinpath(\"\", \"test\")\n",
    "# testpath.mkdir(parents=True, exist_ok=True)"
   ]
  },
  {
   "cell_type": "code",
   "execution_count": null,
   "metadata": {},
   "outputs": [],
   "source": [
    "# add the folders at the root to be processed\n",
    "response = fetch_webpage(url=root_url+\"/filepro/documents/\")\n",
    "bs = BeautifulSoup(response.content,'html.parser')\n",
    "folders.extend(get_items(bs, parent_url=\"/filepro/documents/\",parent=[], is_folder=True))"
   ]
  },
  {
   "cell_type": "code",
   "execution_count": null,
   "metadata": {},
   "outputs": [],
   "source": [
    "folders"
   ]
  },
  {
   "cell_type": "code",
   "execution_count": null,
   "metadata": {},
   "outputs": [],
   "source": [
    "documents = []"
   ]
  },
  {
   "cell_type": "code",
   "execution_count": null,
   "metadata": {},
   "outputs": [],
   "source": [
    "documents"
   ]
  },
  {
   "cell_type": "code",
   "execution_count": null,
   "metadata": {},
   "outputs": [],
   "source": [
    "# memory.clear()"
   ]
  },
  {
   "cell_type": "code",
   "execution_count": null,
   "metadata": {},
   "outputs": [],
   "source": [
    "# breadth-first search to find all subfolders and documents\n",
    "while len(folders)>0:\n",
    "    time.sleep(1)\n",
    "    logger.debug(\"folders to visit: %s\", \"\\n\".join([str(folder) for folder in folders]))\n",
    "    logger.debug(\"completed folders: %s\", \"\\n\".join([str(folder) for folder in done_folders]))\n",
    "    \n",
    "    curr_folder = folders.popleft()\n",
    "    logger.info(f\"\\nSearching folder {curr_folder['name']} at location /{'/'.join(curr_folder['parent'])}...\") \n",
    "    try:\n",
    "        response = fetch_webpage(url=root_url+curr_folder[\"url\"])\n",
    "        bs = BeautifulSoup(response.content,'html.parser')\n",
    "\n",
    "        # update current folder\n",
    "        curr_path = curr_folder[\"parent\"].copy()\n",
    "        curr_path.append(curr_folder[\"name\"])\n",
    "        logger.debug(\"currrent folder's parents:%s\", curr_folder[\"parent\"])\n",
    "        logger.debug(\"current folder's name:%s\", curr_folder[\"name\"])\n",
    "        logger.debug(\"parent path to add to children folders/documents: %s\", curr_path)\n",
    "        \n",
    "        # add subfolders to visit from this folder to the folders deque\n",
    "        # initial_folders = len(folders)\n",
    "        children_folders = get_items(bs,parent_url=curr_folder[\"url\"], parent=curr_path, is_folder=True)\n",
    "        folders.extend(children_folders)\n",
    "\n",
    "        # add documents to download from this folder to the documents list\n",
    "        # initial_documents = len(documents)\n",
    "        children_documents = get_items(bs,parent_url=curr_folder[\"url\"], parent=curr_path, is_folder=False)\n",
    "        documents.extend(children_documents)\n",
    "        \n",
    "        logger.info(f\"Found {len(children_folders)} folders and {len(children_documents)} documents at this location.\")\n",
    "    except Exception as e:\n",
    "        tb_str = ''.join(traceback.format_exception(e))\n",
    "        logger.error(tb_str)\n",
    "        continue\n",
    "\n",
    "    done_folders.append(curr_folder)\n",
    "    curr_path = []\n",
    "    \n",
    "    logger.info(f\"Completed folder {curr_folder['name']}\\n\")"
   ]
  },
  {
   "cell_type": "code",
   "execution_count": null,
   "metadata": {},
   "outputs": [],
   "source": [
    "print(folders)\n",
    "print(done_folders)"
   ]
  },
  {
   "cell_type": "code",
   "execution_count": null,
   "metadata": {},
   "outputs": [],
   "source": [
    "documents"
   ]
  },
  {
   "cell_type": "code",
   "execution_count": null,
   "metadata": {},
   "outputs": [],
   "source": []
  },
  {
   "cell_type": "code",
   "execution_count": null,
   "metadata": {},
   "outputs": [],
   "source": []
  },
  {
   "cell_type": "code",
   "execution_count": null,
   "metadata": {},
   "outputs": [],
   "source": []
  },
  {
   "cell_type": "markdown",
   "metadata": {},
   "source": [
    "## downloading documents"
   ]
  },
  {
   "cell_type": "code",
   "execution_count": null,
   "metadata": {},
   "outputs": [],
   "source": [
    "# # https://pleasantontx.civicweb.net/filepro/documents/5688/ #has 4 documents\n",
    "# bs = get_soup(url_append='/filepro/documents/5688/', root_url=root_url)"
   ]
  },
  {
   "cell_type": "code",
   "execution_count": null,
   "metadata": {},
   "outputs": [],
   "source": [
    "# documents = []\n",
    "# documents = get_documents(bs, documents)"
   ]
  },
  {
   "cell_type": "code",
   "execution_count": null,
   "metadata": {},
   "outputs": [],
   "source": [
    "# documents"
   ]
  },
  {
   "cell_type": "code",
   "execution_count": null,
   "metadata": {},
   "outputs": [],
   "source": [
    "# documents = []\n",
    "# for doc in bs.find_all(\"a\", class_='document-link'):\n",
    "#     document_info = {\n",
    "#         \"name\": doc.text.strip(),\n",
    "#         \"url\": doc[\"href\"],\n",
    "#         \"subdomain\": subdomain,\n",
    "#         }\n",
    "#     documents.append(document_info)\n",
    "# print(documents)"
   ]
  },
  {
   "cell_type": "code",
   "execution_count": null,
   "metadata": {},
   "outputs": [],
   "source": [
    "len(documents)"
   ]
  },
  {
   "cell_type": "code",
   "execution_count": null,
   "metadata": {},
   "outputs": [],
   "source": [
    "# def get_parent_url(document:dict, folders:deque=done_folders):\n",
    "#     return [folder for folder in folders \n",
    "#     if \"\".join(folder[\"parents\"])+folder[\"name\"] == \"\".join(document[\"parents\"])\n",
    "#     ]"
   ]
  },
  {
   "cell_type": "code",
   "execution_count": null,
   "metadata": {},
   "outputs": [],
   "source": [
    "OUT_FOLDER = Path.cwd() / \"out\"\n",
    "rows = []\n",
    "for document in documents[:10]:\n",
    "    error = \"\"\n",
    "    file_extension = \"\"\n",
    "    try:\n",
    "        t1 = time.time()\n",
    "        response = fetch_webpage(url=root_url+document[\"url\"], headers=HEADERS)\n",
    "        t2 = time.time()\n",
    "        logger.info((f\"Took {round((t2-t1),3)} seconds to get page.\"))\n",
    "        out_path = OUT_FOLDER.joinpath(subdomain, *document[\"parent\"])\n",
    "\n",
    "        file_extension, file_type = get_filetype(response)\n",
    "        logger.info((f\"{document['name']}{file_extension}\"))\n",
    "        download_file(\n",
    "            response, \n",
    "            filename=document[\"name\"]+file_extension,\n",
    "            out_path=out_path)\n",
    "    except Exception as e:\n",
    "        tb_str = ''.join(traceback.format_exception(e))\n",
    "        logger.error(tb_str)\n",
    "        error += e # update with error\n",
    "    finally:\n",
    "        download_dict = {\n",
    "            \"name\": document[\"name\"]+file_extension,\n",
    "            \"file_type\": file_type,\n",
    "            \"subdomain\": subdomain,\n",
    "            \"parent_path\": \"/\".join(document[\"parent\"]),\n",
    "            \"root_url\": root_url, \n",
    "            \"url\": document[\"url\"], \n",
    "            \"parent_url\": document[\"parent_url\"],\n",
    "            \"date_scraped\": datetime.now().strftime(\"%Y-%m-%d %H:%M:%S\"),\n",
    "            \"'error_in_scraping'\": error\n",
    "        }\n",
    "        rows.append(download_dict)"
   ]
  },
  {
   "cell_type": "code",
   "execution_count": null,
   "metadata": {},
   "outputs": [],
   "source": [
    "rows"
   ]
  },
  {
   "cell_type": "code",
   "execution_count": null,
   "metadata": {},
   "outputs": [],
   "source": [
    "out_df = pd.DataFrame(rows)\n",
    "out_df"
   ]
  },
  {
   "cell_type": "code",
   "execution_count": null,
   "metadata": {},
   "outputs": [],
   "source": [
    "out_df.to_csv(OUT_FOLDER / \"scraped_files.csv\")"
   ]
  },
  {
   "cell_type": "code",
   "execution_count": null,
   "metadata": {},
   "outputs": [],
   "source": [
    "in_df = pd.read_csv(OUT_FOLDER / \"scraped_files.csv\", index_col=[0])"
   ]
  },
  {
   "cell_type": "code",
   "execution_count": null,
   "metadata": {},
   "outputs": [],
   "source": [
    "in_df"
   ]
  },
  {
   "cell_type": "code",
   "execution_count": null,
   "metadata": {},
   "outputs": [],
   "source": []
  },
  {
   "cell_type": "code",
   "execution_count": null,
   "metadata": {},
   "outputs": [],
   "source": []
  },
  {
   "cell_type": "code",
   "execution_count": null,
   "metadata": {},
   "outputs": [],
   "source": []
  },
  {
   "cell_type": "code",
   "execution_count": null,
   "metadata": {},
   "outputs": [],
   "source": []
  },
  {
   "cell_type": "code",
   "execution_count": null,
   "metadata": {},
   "outputs": [],
   "source": [
    "# t1 = time.time()\n",
    "# response = requests.get(root_url+documents[0][\"url\"], headers=HEADERS)\n",
    "# t2 = time.time()\n",
    "# print(f\"Took {round((t2-t1),3)} seconds to get page.\")\n",
    "\n",
    "# t3 = time.time()\n",
    "# with open(\"./out/\"+documents[0][\"name\"]+\".pdf\", 'wb') as pdf:\n",
    "#     pdf.write(response.content)\n",
    "#     pdf.close()\n",
    "# t4 = time.time()\n",
    "# print(f\"Took {round((t4-t3),3)} seconds to save pdf.\")"
   ]
  },
  {
   "cell_type": "code",
   "execution_count": null,
   "metadata": {},
   "outputs": [],
   "source": []
  },
  {
   "cell_type": "code",
   "execution_count": null,
   "metadata": {},
   "outputs": [],
   "source": []
  },
  {
   "cell_type": "code",
   "execution_count": null,
   "metadata": {},
   "outputs": [],
   "source": []
  },
  {
   "cell_type": "code",
   "execution_count": null,
   "metadata": {},
   "outputs": [],
   "source": [
    "# documents[0] and [1] are in folder /filepro/documents/5869 \n",
    "response = fetch_webpage(url_append='/filepro/documents/5869', root_url=root_url, headers=HEADERS)\n",
    "bs = BeautifulSoup(response.content,'html.parser')"
   ]
  },
  {
   "cell_type": "code",
   "execution_count": null,
   "metadata": {},
   "outputs": [],
   "source": [
    "response = fetch_webpage(url_append=documents[0][\"url\"], root_url=root_url, headers=HEADERS)\n",
    "bs = BeautifulSoup(response.content)"
   ]
  },
  {
   "cell_type": "code",
   "execution_count": null,
   "metadata": {},
   "outputs": [],
   "source": [
    "download_file(response, filename=documents[0][\"name\"]+\".html\", parents=documents[0][\"parents\"], subdomain=subdomain, out_path = Path.cwd() / \"out\")"
   ]
  },
  {
   "cell_type": "code",
   "execution_count": null,
   "metadata": {},
   "outputs": [],
   "source": [
    "response.headers['Content-Type']"
   ]
  },
  {
   "cell_type": "code",
   "execution_count": null,
   "metadata": {},
   "outputs": [],
   "source": [
    "response.headers['Content-Type'].split(\";\")[0]"
   ]
  },
  {
   "cell_type": "code",
   "execution_count": null,
   "metadata": {},
   "outputs": [],
   "source": [
    "# print(mimetypes.guess_extension(response.headers['Content-Type'])) # results in None\n",
    "print(mimetypes.guess_extension(response.headers['Content-Type'].split(\";\")[0]))"
   ]
  },
  {
   "cell_type": "code",
   "execution_count": null,
   "metadata": {},
   "outputs": [],
   "source": [
    "print(mimetypes.guess_extension('text/html'))"
   ]
  },
  {
   "cell_type": "code",
   "execution_count": null,
   "metadata": {},
   "outputs": [],
   "source": [
    "print(mimetypes.guess_extension(response1.headers['Content-Type']))"
   ]
  },
  {
   "cell_type": "code",
   "execution_count": null,
   "metadata": {},
   "outputs": [],
   "source": [
    "mimetypes.types_map['.html']"
   ]
  },
  {
   "cell_type": "code",
   "execution_count": null,
   "metadata": {},
   "outputs": [],
   "source": [
    "print(response.headers)"
   ]
  },
  {
   "cell_type": "code",
   "execution_count": null,
   "metadata": {},
   "outputs": [],
   "source": [
    "response1 = fetch_webpage(url_append=documents[1][\"url\"], root_url=root_url, headers=HEADERS)\n",
    "bs1 = BeautifulSoup(response1.content)"
   ]
  },
  {
   "cell_type": "code",
   "execution_count": null,
   "metadata": {},
   "outputs": [],
   "source": [
    "print(response1.headers)"
   ]
  },
  {
   "cell_type": "code",
   "execution_count": null,
   "metadata": {},
   "outputs": [],
   "source": [
    "print(response1.headers[\"Content-Disposition\"])"
   ]
  },
  {
   "cell_type": "code",
   "execution_count": null,
   "metadata": {},
   "outputs": [],
   "source": [
    "print(response1.headers.keys)"
   ]
  },
  {
   "cell_type": "code",
   "execution_count": null,
   "metadata": {},
   "outputs": [],
   "source": [
    "print(response.headers[\"Content-Type\"])"
   ]
  },
  {
   "cell_type": "code",
   "execution_count": null,
   "metadata": {},
   "outputs": [],
   "source": []
  },
  {
   "cell_type": "code",
   "execution_count": null,
   "metadata": {},
   "outputs": [],
   "source": [
    "response = fetch_webpage(url_append=documents[1][\"url\"], root_url=root_url, headers=HEADERS)\n",
    "bs = BeautifulSoup(response.content)"
   ]
  },
  {
   "cell_type": "code",
   "execution_count": null,
   "metadata": {},
   "outputs": [],
   "source": [
    "print(response.headers[\"Content-Type\"])"
   ]
  },
  {
   "cell_type": "code",
   "execution_count": null,
   "metadata": {},
   "outputs": [],
   "source": [
    "mimetypes.guess_extension('image/jpeg')"
   ]
  },
  {
   "cell_type": "code",
   "execution_count": null,
   "metadata": {},
   "outputs": [],
   "source": []
  },
  {
   "cell_type": "code",
   "execution_count": null,
   "metadata": {},
   "outputs": [],
   "source": []
  },
  {
   "cell_type": "code",
   "execution_count": null,
   "metadata": {},
   "outputs": [],
   "source": []
  },
  {
   "cell_type": "code",
   "execution_count": null,
   "metadata": {},
   "outputs": [],
   "source": []
  },
  {
   "cell_type": "markdown",
   "metadata": {},
   "source": [
    "# Bing search"
   ]
  },
  {
   "cell_type": "code",
   "execution_count": null,
   "metadata": {},
   "outputs": [],
   "source": [
    "# BING_SEARCH_ENDPOINT = 'https://api.bing.microsoft.com/v7.0/search'\n",
    "\n",
    "# API_KEY = os.getenv('BING_API') # Need to obtain key from https://portal.azure.com/. Create a \".env\" file in the root folder and add the key to an API_KEY variable inside the \".env\" file.\n",
    "# api_header = {\n",
    "#     \"Ocp-Anim-Subscription-Key\": API_KEY,  \n",
    "# }\n",
    "# api_params = {\n",
    "#     # \"q\": \"site:civicweb.net\", # or \n",
    "#     \"q\": 'site%3acivicweb.net',\n",
    "#     \"mkt\": \"en-CA\", # for results from Canada; referenced from https://learn.microsoft.com/en-us/bing/search-apis/bing-web-search/reference/market-codes\n",
    "#     # \"count\": 50,\n",
    "#     # \"offset\": 0,\n",
    "# }\n",
    "\n",
    "# response = session.get(BING_SEARCH_ENDPOINT, headers=api_header, params=api_params)\n",
    "# response.raise_for_status()\n",
    "# search_results = response.json()"
   ]
  },
  {
   "cell_type": "markdown",
   "metadata": {},
   "source": [
    "## selenium scraping"
   ]
  }
 ],
 "metadata": {
  "kernelspec": {
   "display_name": "civicweb_scraper",
   "language": "python",
   "name": "python3"
  },
  "language_info": {
   "codemirror_mode": {
    "name": "ipython",
    "version": 3
   },
   "file_extension": ".py",
   "mimetype": "text/x-python",
   "name": "python",
   "nbconvert_exporter": "python",
   "pygments_lexer": "ipython3",
   "version": "3.10.0"
  }
 },
 "nbformat": 4,
 "nbformat_minor": 2
}
