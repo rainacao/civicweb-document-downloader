{
 "cells": [
  {
   "cell_type": "code",
   "execution_count": 8,
   "metadata": {},
   "outputs": [],
   "source": [
    "# import selenium\n",
    "import requests\n",
    "from bs4 import BeautifulSoup\n",
    "import re\n",
    "import pandas as pd\n",
    "from collections import deque\n",
    "import logging\n",
    "from joblib import Memory\n",
    "\n",
    "# # Create a memory-based cache with a size limit of 100 MB\n",
    "cache = Memory(location='~/.cache')\n",
    "\n",
    "logging.basicConfig(format='%(levelname)s:%(message)s', level=logging.DEBUG)\n",
    "logger = logging.getLogger(__name__)"
   ]
  },
  {
   "cell_type": "code",
   "execution_count": 2,
   "metadata": {},
   "outputs": [],
   "source": [
    "root_url = \"https://pleasantontx.civicweb.net\"\n",
    "document_tree_suffix = \"/filepro/documents/\"\n",
    "HEADERS = {'User-Agent': 'Mozilla/5.0 (Macintosh; Intel Mac OS X 10_13_6) AppleWebKit/537.36 (KHTML, like Gecko) Chrome/84.0.4147.125 Safari/537.36'}"
   ]
  },
  {
   "cell_type": "code",
   "execution_count": 3,
   "metadata": {},
   "outputs": [],
   "source": [
    "\n",
    "    \n",
    "def get_soup(url_append, root_url=root_url, headers=HEADERS):\n",
    "    # TODO: implement caching using joblib\n",
    "    # cached_result = cache.get('html:%s' % url)\n",
    "    # if cached_result:\n",
    "    #     return cached_result\n",
    "    url = root_url + url_append\n",
    "    print(f\"Getting BeautifulSoup object from {url}\")\n",
    "    try:\n",
    "        page = requests.get(url, headers=headers)\n",
    "        # cache.set('html:%s' % url, page)\n",
    "        bs = BeautifulSoup(page.content,'html.parser')\n",
    "        return bs\n",
    "    except Exception as e:\n",
    "        print(\"Error: \", e)\n",
    "        return None\n",
    "    \n",
    "def get_folders(bs:BeautifulSoup, folders:deque):\n",
    "    for folder in bs.find_all(\"a\", class_='folder-link'):\n",
    "        folder_name = folder.get('href')\n",
    "        if folder_name not in folders:\n",
    "            folders.append(folder_name)\n",
    "    return folders\n",
    "\n",
    "def get_documents(bs:BeautifulSoup, documents:list):\n",
    "    # TODO: get all documents\n",
    "    pass\n",
    "    # for document in bs.find_all(\"a\", class_='document-link'):\n",
    "    #     if document.get('href') not in documents:\n",
    "    #         documents.append(document)\n",
    "    # return documents\n",
    "\n",
    "def download_pdf(url:str, headers=HEADERS):\n",
    "    page = requests.get(url, headers=headers)\n",
    "    pdf = open(\"pdf\"+str(i)+\".pdf\", 'wb')\n",
    "    pdf.write(page.content)\n",
    "    pdf.close()\n",
    "    return None"
   ]
  },
  {
   "cell_type": "code",
   "execution_count": 4,
   "metadata": {},
   "outputs": [],
   "source": [
    "folders = deque([])\n",
    "done_folders = deque([])"
   ]
  },
  {
   "cell_type": "code",
   "execution_count": 17,
   "metadata": {},
   "outputs": [],
   "source": [
    "documents = []"
   ]
  },
  {
   "cell_type": "code",
   "execution_count": 5,
   "metadata": {},
   "outputs": [
    {
     "name": "stdout",
     "output_type": "stream",
     "text": [
      "Getting BeautifulSoup object from https://pleasantontx.civicweb.net/filepro/documents/\n"
     ]
    },
    {
     "name": "stderr",
     "output_type": "stream",
     "text": [
      "DEBUG:Starting new HTTPS connection (1): pleasantontx.civicweb.net:443\n",
      "DEBUG:https://pleasantontx.civicweb.net:443 \"GET /filepro/documents/ HTTP/1.1\" 200 None\n"
     ]
    },
    {
     "name": "stdout",
     "output_type": "stream",
     "text": [
      "<Response [200]>\n",
      "Adding new folder /filepro/documents/1009\n",
      "Adding new folder /filepro/documents/108\n",
      "Adding new folder /filepro/documents/109\n"
     ]
    }
   ],
   "source": [
    "bs = get_soup(url_append=document_tree_suffix, root_url=root_url)\n",
    "folders = get_folders(bs, folders)"
   ]
  },
  {
   "cell_type": "code",
   "execution_count": 10,
   "metadata": {},
   "outputs": [
    {
     "name": "stdout",
     "output_type": "stream",
     "text": [
      "deque(['/filepro/documents/1009', '/filepro/documents/108'])\n",
      "deque([])\n",
      "Searching folder /filepro/documents/108...\n",
      "Getting BeautifulSoup object from https://pleasantontx.civicweb.net/filepro/documents/108\n"
     ]
    },
    {
     "name": "stderr",
     "output_type": "stream",
     "text": [
      "DEBUG:Starting new HTTPS connection (1): pleasantontx.civicweb.net:443\n",
      "DEBUG:https://pleasantontx.civicweb.net:443 \"GET /filepro/documents/108 HTTP/1.1\" 301 None\n",
      "DEBUG:https://pleasantontx.civicweb.net:443 \"GET /filepro/documents/108/ HTTP/1.1\" 200 None\n",
      "DEBUG:Starting new HTTPS connection (1): pleasantontx.civicweb.net:443\n"
     ]
    },
    {
     "name": "stdout",
     "output_type": "stream",
     "text": [
      "<Response [200]>\n",
      "Adding new folder /filepro/documents/1688\n",
      "Found 1 new folders and 0 new documents.\n",
      "done\n",
      "deque(['/filepro/documents/1009', '/filepro/documents/1688'])\n",
      "deque(['/filepro/documents/108'])\n",
      "Searching folder /filepro/documents/1688...\n",
      "Getting BeautifulSoup object from https://pleasantontx.civicweb.net/filepro/documents/1688\n"
     ]
    },
    {
     "name": "stderr",
     "output_type": "stream",
     "text": [
      "DEBUG:https://pleasantontx.civicweb.net:443 \"GET /filepro/documents/1688 HTTP/1.1\" 301 None\n",
      "DEBUG:https://pleasantontx.civicweb.net:443 \"GET /filepro/documents/1688/ HTTP/1.1\" 200 None\n",
      "DEBUG:Starting new HTTPS connection (1): pleasantontx.civicweb.net:443\n"
     ]
    },
    {
     "name": "stdout",
     "output_type": "stream",
     "text": [
      "<Response [200]>\n",
      "Found 0 new folders and 0 new documents.\n",
      "done\n",
      "deque(['/filepro/documents/1009'])\n",
      "deque(['/filepro/documents/108', '/filepro/documents/1688'])\n",
      "Searching folder /filepro/documents/1009...\n",
      "Getting BeautifulSoup object from https://pleasantontx.civicweb.net/filepro/documents/1009\n"
     ]
    },
    {
     "name": "stderr",
     "output_type": "stream",
     "text": [
      "DEBUG:https://pleasantontx.civicweb.net:443 \"GET /filepro/documents/1009 HTTP/1.1\" 301 None\n",
      "DEBUG:https://pleasantontx.civicweb.net:443 \"GET /filepro/documents/1009/ HTTP/1.1\" 200 None\n",
      "DEBUG:Starting new HTTPS connection (1): pleasantontx.civicweb.net:443\n"
     ]
    },
    {
     "name": "stdout",
     "output_type": "stream",
     "text": [
      "<Response [200]>\n",
      "Adding new folder /filepro/documents/5682\n",
      "Adding new folder /filepro/documents/3879\n",
      "Adding new folder /filepro/documents/1021\n",
      "Found 3 new folders and 0 new documents.\n",
      "done\n",
      "deque(['/filepro/documents/5682', '/filepro/documents/3879', '/filepro/documents/1021'])\n",
      "deque(['/filepro/documents/108', '/filepro/documents/1688', '/filepro/documents/1009'])\n",
      "Searching folder /filepro/documents/1021...\n",
      "Getting BeautifulSoup object from https://pleasantontx.civicweb.net/filepro/documents/1021\n"
     ]
    },
    {
     "name": "stderr",
     "output_type": "stream",
     "text": [
      "DEBUG:https://pleasantontx.civicweb.net:443 \"GET /filepro/documents/1021 HTTP/1.1\" 301 None\n",
      "DEBUG:https://pleasantontx.civicweb.net:443 \"GET /filepro/documents/1021/ HTTP/1.1\" 200 None\n",
      "DEBUG:Starting new HTTPS connection (1): pleasantontx.civicweb.net:443\n"
     ]
    },
    {
     "name": "stdout",
     "output_type": "stream",
     "text": [
      "<Response [200]>\n",
      "Adding new folder /filepro/documents/5687\n",
      "Adding new folder /filepro/documents/5684\n",
      "Adding new folder /filepro/documents/5664\n",
      "Adding new folder /filepro/documents/3997\n",
      "Adding new folder /filepro/documents/3606\n",
      "Adding new folder /filepro/documents/1022\n",
      "Found 6 new folders and 0 new documents.\n",
      "done\n",
      "deque(['/filepro/documents/5682', '/filepro/documents/3879', '/filepro/documents/5687', '/filepro/documents/5684', '/filepro/documents/5664', '/filepro/documents/3997', '/filepro/documents/3606', '/filepro/documents/1022'])\n",
      "deque(['/filepro/documents/108', '/filepro/documents/1688', '/filepro/documents/1009', '/filepro/documents/1021'])\n",
      "Searching folder /filepro/documents/1022...\n",
      "Getting BeautifulSoup object from https://pleasantontx.civicweb.net/filepro/documents/1022\n"
     ]
    },
    {
     "name": "stderr",
     "output_type": "stream",
     "text": [
      "DEBUG:https://pleasantontx.civicweb.net:443 \"GET /filepro/documents/1022 HTTP/1.1\" 301 None\n",
      "DEBUG:https://pleasantontx.civicweb.net:443 \"GET /filepro/documents/1022/ HTTP/1.1\" 200 None\n",
      "DEBUG:Starting new HTTPS connection (1): pleasantontx.civicweb.net:443\n"
     ]
    },
    {
     "name": "stdout",
     "output_type": "stream",
     "text": [
      "<Response [200]>\n",
      "Found 0 new folders and 0 new documents.\n",
      "done\n",
      "deque(['/filepro/documents/5682', '/filepro/documents/3879', '/filepro/documents/5687', '/filepro/documents/5684', '/filepro/documents/5664', '/filepro/documents/3997', '/filepro/documents/3606'])\n",
      "deque(['/filepro/documents/108', '/filepro/documents/1688', '/filepro/documents/1009', '/filepro/documents/1021', '/filepro/documents/1022'])\n",
      "Searching folder /filepro/documents/3606...\n",
      "Getting BeautifulSoup object from https://pleasantontx.civicweb.net/filepro/documents/3606\n"
     ]
    },
    {
     "name": "stderr",
     "output_type": "stream",
     "text": [
      "DEBUG:https://pleasantontx.civicweb.net:443 \"GET /filepro/documents/3606 HTTP/1.1\" 301 None\n",
      "DEBUG:https://pleasantontx.civicweb.net:443 \"GET /filepro/documents/3606/ HTTP/1.1\" 200 None\n",
      "DEBUG:Starting new HTTPS connection (1): pleasantontx.civicweb.net:443\n"
     ]
    },
    {
     "name": "stdout",
     "output_type": "stream",
     "text": [
      "<Response [200]>\n",
      "Found 0 new folders and 0 new documents.\n",
      "done\n",
      "deque(['/filepro/documents/5682', '/filepro/documents/3879', '/filepro/documents/5687', '/filepro/documents/5684', '/filepro/documents/5664', '/filepro/documents/3997'])\n",
      "deque(['/filepro/documents/108', '/filepro/documents/1688', '/filepro/documents/1009', '/filepro/documents/1021', '/filepro/documents/1022', '/filepro/documents/3606'])\n",
      "Searching folder /filepro/documents/3997...\n",
      "Getting BeautifulSoup object from https://pleasantontx.civicweb.net/filepro/documents/3997\n"
     ]
    },
    {
     "name": "stderr",
     "output_type": "stream",
     "text": [
      "DEBUG:https://pleasantontx.civicweb.net:443 \"GET /filepro/documents/3997 HTTP/1.1\" 301 None\n",
      "DEBUG:https://pleasantontx.civicweb.net:443 \"GET /filepro/documents/3997/ HTTP/1.1\" 200 None\n",
      "DEBUG:Starting new HTTPS connection (1): pleasantontx.civicweb.net:443\n"
     ]
    },
    {
     "name": "stdout",
     "output_type": "stream",
     "text": [
      "<Response [200]>\n",
      "Found 0 new folders and 0 new documents.\n",
      "done\n",
      "deque(['/filepro/documents/5682', '/filepro/documents/3879', '/filepro/documents/5687', '/filepro/documents/5684', '/filepro/documents/5664'])\n",
      "deque(['/filepro/documents/108', '/filepro/documents/1688', '/filepro/documents/1009', '/filepro/documents/1021', '/filepro/documents/1022', '/filepro/documents/3606', '/filepro/documents/3997'])\n",
      "Searching folder /filepro/documents/5664...\n",
      "Getting BeautifulSoup object from https://pleasantontx.civicweb.net/filepro/documents/5664\n"
     ]
    },
    {
     "name": "stderr",
     "output_type": "stream",
     "text": [
      "DEBUG:https://pleasantontx.civicweb.net:443 \"GET /filepro/documents/5664 HTTP/1.1\" 301 None\n",
      "DEBUG:https://pleasantontx.civicweb.net:443 \"GET /filepro/documents/5664/ HTTP/1.1\" 200 None\n",
      "DEBUG:Starting new HTTPS connection (1): pleasantontx.civicweb.net:443\n"
     ]
    },
    {
     "name": "stdout",
     "output_type": "stream",
     "text": [
      "<Response [200]>\n",
      "Found 0 new folders and 0 new documents.\n",
      "done\n",
      "deque(['/filepro/documents/5682', '/filepro/documents/3879', '/filepro/documents/5687', '/filepro/documents/5684'])\n",
      "deque(['/filepro/documents/108', '/filepro/documents/1688', '/filepro/documents/1009', '/filepro/documents/1021', '/filepro/documents/1022', '/filepro/documents/3606', '/filepro/documents/3997', '/filepro/documents/5664'])\n",
      "Searching folder /filepro/documents/5684...\n",
      "Getting BeautifulSoup object from https://pleasantontx.civicweb.net/filepro/documents/5684\n"
     ]
    },
    {
     "name": "stderr",
     "output_type": "stream",
     "text": [
      "DEBUG:https://pleasantontx.civicweb.net:443 \"GET /filepro/documents/5684 HTTP/1.1\" 301 None\n",
      "DEBUG:https://pleasantontx.civicweb.net:443 \"GET /filepro/documents/5684/ HTTP/1.1\" 200 None\n",
      "DEBUG:Starting new HTTPS connection (1): pleasantontx.civicweb.net:443\n"
     ]
    },
    {
     "name": "stdout",
     "output_type": "stream",
     "text": [
      "<Response [200]>\n",
      "Found 0 new folders and 0 new documents.\n",
      "done\n",
      "deque(['/filepro/documents/5682', '/filepro/documents/3879', '/filepro/documents/5687'])\n",
      "deque(['/filepro/documents/108', '/filepro/documents/1688', '/filepro/documents/1009', '/filepro/documents/1021', '/filepro/documents/1022', '/filepro/documents/3606', '/filepro/documents/3997', '/filepro/documents/5664', '/filepro/documents/5684'])\n",
      "Searching folder /filepro/documents/5687...\n",
      "Getting BeautifulSoup object from https://pleasantontx.civicweb.net/filepro/documents/5687\n"
     ]
    },
    {
     "name": "stderr",
     "output_type": "stream",
     "text": [
      "DEBUG:https://pleasantontx.civicweb.net:443 \"GET /filepro/documents/5687 HTTP/1.1\" 301 None\n",
      "DEBUG:https://pleasantontx.civicweb.net:443 \"GET /filepro/documents/5687/ HTTP/1.1\" 200 None\n",
      "DEBUG:Starting new HTTPS connection (1): pleasantontx.civicweb.net:443\n"
     ]
    },
    {
     "name": "stdout",
     "output_type": "stream",
     "text": [
      "<Response [200]>\n",
      "Found 0 new folders and 0 new documents.\n",
      "done\n",
      "deque(['/filepro/documents/5682', '/filepro/documents/3879'])\n",
      "deque(['/filepro/documents/108', '/filepro/documents/1688', '/filepro/documents/1009', '/filepro/documents/1021', '/filepro/documents/1022', '/filepro/documents/3606', '/filepro/documents/3997', '/filepro/documents/5664', '/filepro/documents/5684', '/filepro/documents/5687'])\n",
      "Searching folder /filepro/documents/3879...\n",
      "Getting BeautifulSoup object from https://pleasantontx.civicweb.net/filepro/documents/3879\n"
     ]
    },
    {
     "name": "stderr",
     "output_type": "stream",
     "text": [
      "DEBUG:https://pleasantontx.civicweb.net:443 \"GET /filepro/documents/3879 HTTP/1.1\" 301 None\n",
      "DEBUG:https://pleasantontx.civicweb.net:443 \"GET /filepro/documents/3879/ HTTP/1.1\" 200 None\n",
      "DEBUG:Starting new HTTPS connection (1): pleasantontx.civicweb.net:443\n"
     ]
    },
    {
     "name": "stdout",
     "output_type": "stream",
     "text": [
      "<Response [200]>\n",
      "Adding new folder /filepro/documents/5691\n",
      "Adding new folder /filepro/documents/5689\n",
      "Adding new folder /filepro/documents/5685\n",
      "Adding new folder /filepro/documents/5665\n",
      "Adding new folder /filepro/documents/3880\n",
      "Found 5 new folders and 0 new documents.\n",
      "done\n",
      "deque(['/filepro/documents/5682', '/filepro/documents/5691', '/filepro/documents/5689', '/filepro/documents/5685', '/filepro/documents/5665', '/filepro/documents/3880'])\n",
      "deque(['/filepro/documents/108', '/filepro/documents/1688', '/filepro/documents/1009', '/filepro/documents/1021', '/filepro/documents/1022', '/filepro/documents/3606', '/filepro/documents/3997', '/filepro/documents/5664', '/filepro/documents/5684', '/filepro/documents/5687', '/filepro/documents/3879'])\n",
      "Searching folder /filepro/documents/3880...\n",
      "Getting BeautifulSoup object from https://pleasantontx.civicweb.net/filepro/documents/3880\n"
     ]
    },
    {
     "name": "stderr",
     "output_type": "stream",
     "text": [
      "DEBUG:https://pleasantontx.civicweb.net:443 \"GET /filepro/documents/3880 HTTP/1.1\" 301 None\n",
      "DEBUG:https://pleasantontx.civicweb.net:443 \"GET /filepro/documents/3880/ HTTP/1.1\" 200 None\n",
      "DEBUG:Starting new HTTPS connection (1): pleasantontx.civicweb.net:443\n"
     ]
    },
    {
     "name": "stdout",
     "output_type": "stream",
     "text": [
      "<Response [200]>\n",
      "Found 0 new folders and 0 new documents.\n",
      "done\n",
      "deque(['/filepro/documents/5682', '/filepro/documents/5691', '/filepro/documents/5689', '/filepro/documents/5685', '/filepro/documents/5665'])\n",
      "deque(['/filepro/documents/108', '/filepro/documents/1688', '/filepro/documents/1009', '/filepro/documents/1021', '/filepro/documents/1022', '/filepro/documents/3606', '/filepro/documents/3997', '/filepro/documents/5664', '/filepro/documents/5684', '/filepro/documents/5687', '/filepro/documents/3879', '/filepro/documents/3880'])\n",
      "Searching folder /filepro/documents/5665...\n",
      "Getting BeautifulSoup object from https://pleasantontx.civicweb.net/filepro/documents/5665\n"
     ]
    },
    {
     "name": "stderr",
     "output_type": "stream",
     "text": [
      "DEBUG:https://pleasantontx.civicweb.net:443 \"GET /filepro/documents/5665 HTTP/1.1\" 301 None\n",
      "DEBUG:https://pleasantontx.civicweb.net:443 \"GET /filepro/documents/5665/ HTTP/1.1\" 200 None\n",
      "DEBUG:Starting new HTTPS connection (1): pleasantontx.civicweb.net:443\n"
     ]
    },
    {
     "name": "stdout",
     "output_type": "stream",
     "text": [
      "<Response [200]>\n",
      "Found 0 new folders and 0 new documents.\n",
      "done\n",
      "deque(['/filepro/documents/5682', '/filepro/documents/5691', '/filepro/documents/5689', '/filepro/documents/5685'])\n",
      "deque(['/filepro/documents/108', '/filepro/documents/1688', '/filepro/documents/1009', '/filepro/documents/1021', '/filepro/documents/1022', '/filepro/documents/3606', '/filepro/documents/3997', '/filepro/documents/5664', '/filepro/documents/5684', '/filepro/documents/5687', '/filepro/documents/3879', '/filepro/documents/3880', '/filepro/documents/5665'])\n",
      "Searching folder /filepro/documents/5685...\n",
      "Getting BeautifulSoup object from https://pleasantontx.civicweb.net/filepro/documents/5685\n"
     ]
    },
    {
     "name": "stderr",
     "output_type": "stream",
     "text": [
      "DEBUG:https://pleasantontx.civicweb.net:443 \"GET /filepro/documents/5685 HTTP/1.1\" 301 None\n",
      "DEBUG:https://pleasantontx.civicweb.net:443 \"GET /filepro/documents/5685/ HTTP/1.1\" 200 None\n",
      "DEBUG:Starting new HTTPS connection (1): pleasantontx.civicweb.net:443\n"
     ]
    },
    {
     "name": "stdout",
     "output_type": "stream",
     "text": [
      "<Response [200]>\n",
      "Found 0 new folders and 0 new documents.\n",
      "done\n",
      "deque(['/filepro/documents/5682', '/filepro/documents/5691', '/filepro/documents/5689'])\n",
      "deque(['/filepro/documents/108', '/filepro/documents/1688', '/filepro/documents/1009', '/filepro/documents/1021', '/filepro/documents/1022', '/filepro/documents/3606', '/filepro/documents/3997', '/filepro/documents/5664', '/filepro/documents/5684', '/filepro/documents/5687', '/filepro/documents/3879', '/filepro/documents/3880', '/filepro/documents/5665', '/filepro/documents/5685'])\n",
      "Searching folder /filepro/documents/5689...\n",
      "Getting BeautifulSoup object from https://pleasantontx.civicweb.net/filepro/documents/5689\n"
     ]
    },
    {
     "name": "stderr",
     "output_type": "stream",
     "text": [
      "DEBUG:https://pleasantontx.civicweb.net:443 \"GET /filepro/documents/5689 HTTP/1.1\" 301 None\n",
      "DEBUG:https://pleasantontx.civicweb.net:443 \"GET /filepro/documents/5689/ HTTP/1.1\" 200 None\n",
      "DEBUG:Starting new HTTPS connection (1): pleasantontx.civicweb.net:443\n"
     ]
    },
    {
     "name": "stdout",
     "output_type": "stream",
     "text": [
      "<Response [200]>\n",
      "Found 0 new folders and 0 new documents.\n",
      "done\n",
      "deque(['/filepro/documents/5682', '/filepro/documents/5691'])\n",
      "deque(['/filepro/documents/108', '/filepro/documents/1688', '/filepro/documents/1009', '/filepro/documents/1021', '/filepro/documents/1022', '/filepro/documents/3606', '/filepro/documents/3997', '/filepro/documents/5664', '/filepro/documents/5684', '/filepro/documents/5687', '/filepro/documents/3879', '/filepro/documents/3880', '/filepro/documents/5665', '/filepro/documents/5685', '/filepro/documents/5689'])\n",
      "Searching folder /filepro/documents/5691...\n",
      "Getting BeautifulSoup object from https://pleasantontx.civicweb.net/filepro/documents/5691\n"
     ]
    },
    {
     "name": "stderr",
     "output_type": "stream",
     "text": [
      "DEBUG:https://pleasantontx.civicweb.net:443 \"GET /filepro/documents/5691 HTTP/1.1\" 301 None\n",
      "DEBUG:https://pleasantontx.civicweb.net:443 \"GET /filepro/documents/5691/ HTTP/1.1\" 200 None\n",
      "DEBUG:Starting new HTTPS connection (1): pleasantontx.civicweb.net:443\n"
     ]
    },
    {
     "name": "stdout",
     "output_type": "stream",
     "text": [
      "<Response [200]>\n",
      "Found 0 new folders and 0 new documents.\n",
      "done\n",
      "deque(['/filepro/documents/5682'])\n",
      "deque(['/filepro/documents/108', '/filepro/documents/1688', '/filepro/documents/1009', '/filepro/documents/1021', '/filepro/documents/1022', '/filepro/documents/3606', '/filepro/documents/3997', '/filepro/documents/5664', '/filepro/documents/5684', '/filepro/documents/5687', '/filepro/documents/3879', '/filepro/documents/3880', '/filepro/documents/5665', '/filepro/documents/5685', '/filepro/documents/5689', '/filepro/documents/5691'])\n",
      "Searching folder /filepro/documents/5682...\n",
      "Getting BeautifulSoup object from https://pleasantontx.civicweb.net/filepro/documents/5682\n"
     ]
    },
    {
     "name": "stderr",
     "output_type": "stream",
     "text": [
      "DEBUG:https://pleasantontx.civicweb.net:443 \"GET /filepro/documents/5682 HTTP/1.1\" 301 None\n",
      "DEBUG:https://pleasantontx.civicweb.net:443 \"GET /filepro/documents/5682/ HTTP/1.1\" 200 None\n"
     ]
    },
    {
     "name": "stdout",
     "output_type": "stream",
     "text": [
      "<Response [200]>\n",
      "Adding new folder /filepro/documents/5869\n",
      "Adding new folder /filepro/documents/5690\n",
      "Adding new folder /filepro/documents/5688\n",
      "Adding new folder /filepro/documents/5686\n",
      "Adding new folder /filepro/documents/5683\n",
      "Found 5 new folders and 0 new documents.\n",
      "done\n",
      "deque(['/filepro/documents/5869', '/filepro/documents/5690', '/filepro/documents/5688', '/filepro/documents/5686', '/filepro/documents/5683'])\n",
      "deque(['/filepro/documents/108', '/filepro/documents/1688', '/filepro/documents/1009', '/filepro/documents/1021', '/filepro/documents/1022', '/filepro/documents/3606', '/filepro/documents/3997', '/filepro/documents/5664', '/filepro/documents/5684', '/filepro/documents/5687', '/filepro/documents/3879', '/filepro/documents/3880', '/filepro/documents/5665', '/filepro/documents/5685', '/filepro/documents/5689', '/filepro/documents/5691', '/filepro/documents/5682'])\n",
      "Searching folder /filepro/documents/5683...\n",
      "Getting BeautifulSoup object from https://pleasantontx.civicweb.net/filepro/documents/5683\n"
     ]
    },
    {
     "name": "stderr",
     "output_type": "stream",
     "text": [
      "DEBUG:Starting new HTTPS connection (1): pleasantontx.civicweb.net:443\n",
      "DEBUG:https://pleasantontx.civicweb.net:443 \"GET /filepro/documents/5683 HTTP/1.1\" 301 None\n",
      "DEBUG:https://pleasantontx.civicweb.net:443 \"GET /filepro/documents/5683/ HTTP/1.1\" 200 None\n",
      "DEBUG:Starting new HTTPS connection (1): pleasantontx.civicweb.net:443\n"
     ]
    },
    {
     "name": "stdout",
     "output_type": "stream",
     "text": [
      "<Response [200]>\n",
      "Found 0 new folders and 0 new documents.\n",
      "done\n",
      "deque(['/filepro/documents/5869', '/filepro/documents/5690', '/filepro/documents/5688', '/filepro/documents/5686'])\n",
      "deque(['/filepro/documents/108', '/filepro/documents/1688', '/filepro/documents/1009', '/filepro/documents/1021', '/filepro/documents/1022', '/filepro/documents/3606', '/filepro/documents/3997', '/filepro/documents/5664', '/filepro/documents/5684', '/filepro/documents/5687', '/filepro/documents/3879', '/filepro/documents/3880', '/filepro/documents/5665', '/filepro/documents/5685', '/filepro/documents/5689', '/filepro/documents/5691', '/filepro/documents/5682', '/filepro/documents/5683'])\n",
      "Searching folder /filepro/documents/5686...\n",
      "Getting BeautifulSoup object from https://pleasantontx.civicweb.net/filepro/documents/5686\n"
     ]
    },
    {
     "name": "stderr",
     "output_type": "stream",
     "text": [
      "DEBUG:https://pleasantontx.civicweb.net:443 \"GET /filepro/documents/5686 HTTP/1.1\" 301 None\n",
      "DEBUG:https://pleasantontx.civicweb.net:443 \"GET /filepro/documents/5686/ HTTP/1.1\" 200 None\n",
      "DEBUG:Starting new HTTPS connection (1): pleasantontx.civicweb.net:443\n"
     ]
    },
    {
     "name": "stdout",
     "output_type": "stream",
     "text": [
      "<Response [200]>\n",
      "Found 0 new folders and 0 new documents.\n",
      "done\n",
      "deque(['/filepro/documents/5869', '/filepro/documents/5690', '/filepro/documents/5688'])\n",
      "deque(['/filepro/documents/108', '/filepro/documents/1688', '/filepro/documents/1009', '/filepro/documents/1021', '/filepro/documents/1022', '/filepro/documents/3606', '/filepro/documents/3997', '/filepro/documents/5664', '/filepro/documents/5684', '/filepro/documents/5687', '/filepro/documents/3879', '/filepro/documents/3880', '/filepro/documents/5665', '/filepro/documents/5685', '/filepro/documents/5689', '/filepro/documents/5691', '/filepro/documents/5682', '/filepro/documents/5683', '/filepro/documents/5686'])\n",
      "Searching folder /filepro/documents/5688...\n",
      "Getting BeautifulSoup object from https://pleasantontx.civicweb.net/filepro/documents/5688\n"
     ]
    },
    {
     "name": "stderr",
     "output_type": "stream",
     "text": [
      "DEBUG:https://pleasantontx.civicweb.net:443 \"GET /filepro/documents/5688 HTTP/1.1\" 301 None\n",
      "DEBUG:https://pleasantontx.civicweb.net:443 \"GET /filepro/documents/5688/ HTTP/1.1\" 200 None\n",
      "DEBUG:Starting new HTTPS connection (1): pleasantontx.civicweb.net:443\n"
     ]
    },
    {
     "name": "stdout",
     "output_type": "stream",
     "text": [
      "<Response [200]>\n",
      "Found 0 new folders and 0 new documents.\n",
      "done\n",
      "deque(['/filepro/documents/5869', '/filepro/documents/5690'])\n",
      "deque(['/filepro/documents/108', '/filepro/documents/1688', '/filepro/documents/1009', '/filepro/documents/1021', '/filepro/documents/1022', '/filepro/documents/3606', '/filepro/documents/3997', '/filepro/documents/5664', '/filepro/documents/5684', '/filepro/documents/5687', '/filepro/documents/3879', '/filepro/documents/3880', '/filepro/documents/5665', '/filepro/documents/5685', '/filepro/documents/5689', '/filepro/documents/5691', '/filepro/documents/5682', '/filepro/documents/5683', '/filepro/documents/5686', '/filepro/documents/5688'])\n",
      "Searching folder /filepro/documents/5690...\n",
      "Getting BeautifulSoup object from https://pleasantontx.civicweb.net/filepro/documents/5690\n"
     ]
    },
    {
     "name": "stderr",
     "output_type": "stream",
     "text": [
      "DEBUG:https://pleasantontx.civicweb.net:443 \"GET /filepro/documents/5690 HTTP/1.1\" 301 None\n",
      "DEBUG:https://pleasantontx.civicweb.net:443 \"GET /filepro/documents/5690/ HTTP/1.1\" 200 None\n",
      "DEBUG:Starting new HTTPS connection (1): pleasantontx.civicweb.net:443\n"
     ]
    },
    {
     "name": "stdout",
     "output_type": "stream",
     "text": [
      "<Response [200]>\n",
      "Found 0 new folders and 0 new documents.\n",
      "done\n",
      "deque(['/filepro/documents/5869'])\n",
      "deque(['/filepro/documents/108', '/filepro/documents/1688', '/filepro/documents/1009', '/filepro/documents/1021', '/filepro/documents/1022', '/filepro/documents/3606', '/filepro/documents/3997', '/filepro/documents/5664', '/filepro/documents/5684', '/filepro/documents/5687', '/filepro/documents/3879', '/filepro/documents/3880', '/filepro/documents/5665', '/filepro/documents/5685', '/filepro/documents/5689', '/filepro/documents/5691', '/filepro/documents/5682', '/filepro/documents/5683', '/filepro/documents/5686', '/filepro/documents/5688', '/filepro/documents/5690'])\n",
      "Searching folder /filepro/documents/5869...\n",
      "Getting BeautifulSoup object from https://pleasantontx.civicweb.net/filepro/documents/5869\n"
     ]
    },
    {
     "name": "stderr",
     "output_type": "stream",
     "text": [
      "DEBUG:https://pleasantontx.civicweb.net:443 \"GET /filepro/documents/5869 HTTP/1.1\" 301 None\n",
      "DEBUG:https://pleasantontx.civicweb.net:443 \"GET /filepro/documents/5869/ HTTP/1.1\" 200 None\n"
     ]
    },
    {
     "name": "stdout",
     "output_type": "stream",
     "text": [
      "<Response [200]>\n",
      "Found 0 new folders and 0 new documents.\n",
      "done\n"
     ]
    }
   ],
   "source": [
    "while len(folders)>0:\n",
    "    \n",
    "    print(folders)\n",
    "    print(done_folders)\n",
    "    folder_name = folders.pop()\n",
    "    print(f\"Searching folder {folder_name}...\")\n",
    "    try:\n",
    "    \n",
    "        bs = get_soup(url_append=folder_name, root_url=root_url)\n",
    "\n",
    "        # find additional subfolders\n",
    "        initial_folders = len(folders)\n",
    "        folders = get_folders(bs, folders)\n",
    "\n",
    "        # find documents in this folder\n",
    "        initial_documents = len(documents)\n",
    "        documents = get_documents(bs, documents)\n",
    "        \n",
    "        print(f\"Found {len(folders)-initial_folders} new folders and {len(documents)-initial_documents} new documents.\")\n",
    "    except Exception as e:\n",
    "        logger.error(f\"Scraping Incomplete for folder {folder_name} with Error: {e}\")\n",
    "        break\n",
    "\n",
    "    done_folders.append(folder_name)\n",
    "    print(\"done\")"
   ]
  },
  {
   "cell_type": "code",
   "execution_count": 12,
   "metadata": {},
   "outputs": [
    {
     "name": "stdout",
     "output_type": "stream",
     "text": [
      "deque([])\n",
      "deque(['/filepro/documents/108', '/filepro/documents/1688', '/filepro/documents/1009', '/filepro/documents/1021', '/filepro/documents/1022', '/filepro/documents/3606', '/filepro/documents/3997', '/filepro/documents/5664', '/filepro/documents/5684', '/filepro/documents/5687', '/filepro/documents/3879', '/filepro/documents/3880', '/filepro/documents/5665', '/filepro/documents/5685', '/filepro/documents/5689', '/filepro/documents/5691', '/filepro/documents/5682', '/filepro/documents/5683', '/filepro/documents/5686', '/filepro/documents/5688', '/filepro/documents/5690', '/filepro/documents/5869'])\n"
     ]
    }
   ],
   "source": [
    "print(folders)\n",
    "print(done_folders)"
   ]
  },
  {
   "cell_type": "code",
   "execution_count": null,
   "metadata": {},
   "outputs": [],
   "source": []
  },
  {
   "cell_type": "code",
   "execution_count": null,
   "metadata": {},
   "outputs": [],
   "source": []
  },
  {
   "cell_type": "code",
   "execution_count": null,
   "metadata": {},
   "outputs": [],
   "source": []
  },
  {
   "cell_type": "code",
   "execution_count": null,
   "metadata": {},
   "outputs": [],
   "source": []
  },
  {
   "cell_type": "code",
   "execution_count": 21,
   "metadata": {},
   "outputs": [
    {
     "name": "stdout",
     "output_type": "stream",
     "text": [
      "Getting BeautifulSoup object from https://pleasantontx.civicweb.net/filepro/documents/5688/\n"
     ]
    },
    {
     "name": "stderr",
     "output_type": "stream",
     "text": [
      "DEBUG:Starting new HTTPS connection (1): pleasantontx.civicweb.net:443\n",
      "DEBUG:https://pleasantontx.civicweb.net:443 \"GET /filepro/documents/5688/ HTTP/1.1\" 200 None\n"
     ]
    },
    {
     "name": "stdout",
     "output_type": "stream",
     "text": [
      "<Response [200]>\n"
     ]
    }
   ],
   "source": [
    "# https://pleasantontx.civicweb.net/filepro/documents/5688/ #has 4 documents\n",
    "bs = get_soup(url_append='/filepro/documents/5688/', root_url=root_url)\n"
   ]
  },
  {
   "cell_type": "code",
   "execution_count": 22,
   "metadata": {},
   "outputs": [],
   "source": [
    "documents = get_documents(bs, documents)"
   ]
  },
  {
   "cell_type": "code",
   "execution_count": null,
   "metadata": {},
   "outputs": [],
   "source": []
  },
  {
   "cell_type": "code",
   "execution_count": 37,
   "metadata": {},
   "outputs": [
    {
     "name": "stdout",
     "output_type": "stream",
     "text": [
      "[{'name': '07-16-20 Workshop', 'subdirectory_url': '/document/5626', 'subdomain': 'pleasantontx'}, {'name': '08-06-20 Workshop', 'subdirectory_url': '/document/5628', 'subdomain': 'pleasantontx'}, {'name': '06-18-20 Workshop', 'subdirectory_url': '/document/5624', 'subdomain': 'pleasantontx'}, {'name': '02-20-20 Workshop', 'subdirectory_url': '/document/5613', 'subdomain': 'pleasantontx'}]\n"
     ]
    }
   ],
   "source": [
    "rows = []\n",
    "for doc in bs.find_all(\"a\", class_='document-link'):\n",
    "    document_info = {\n",
    "        \"name\": doc.text.strip(),\n",
    "        \"subdirectory_url\": doc[\"href\"],\n",
    "        \"subdomain\": root_url.split(\"https://\")[-1].split(\".civicweb.net\")[0],\n",
    "        }\n",
    "    rows.append(document_info)\n",
    "print(rows)"
   ]
  },
  {
   "cell_type": "code",
   "execution_count": 23,
   "metadata": {},
   "outputs": [
    {
     "data": {
      "text/plain": [
       "[]"
      ]
     },
     "execution_count": 23,
     "metadata": {},
     "output_type": "execute_result"
    }
   ],
   "source": [
    "documents"
   ]
  },
  {
   "cell_type": "code",
   "execution_count": null,
   "metadata": {},
   "outputs": [],
   "source": [
    "# for doc in [document[\"name\"] for document in rows]:\n",
    "#     page = requests.get(url, headers=HEADERS)\n",
    "#     pdf = open(\"pdf\"+str(i)+\".pdf\", 'wb')\n",
    "#     pdf.write(page.content)\n",
    "#     pdf.close()"
   ]
  },
  {
   "cell_type": "code",
   "execution_count": null,
   "metadata": {},
   "outputs": [],
   "source": []
  },
  {
   "cell_type": "code",
   "execution_count": null,
   "metadata": {},
   "outputs": [],
   "source": []
  },
  {
   "cell_type": "code",
   "execution_count": null,
   "metadata": {},
   "outputs": [],
   "source": []
  },
  {
   "cell_type": "code",
   "execution_count": null,
   "metadata": {},
   "outputs": [],
   "source": []
  },
  {
   "cell_type": "code",
   "execution_count": null,
   "metadata": {},
   "outputs": [],
   "source": []
  }
 ],
 "metadata": {
  "kernelspec": {
   "display_name": "civicweb_scraper",
   "language": "python",
   "name": "python3"
  },
  "language_info": {
   "codemirror_mode": {
    "name": "ipython",
    "version": 3
   },
   "file_extension": ".py",
   "mimetype": "text/x-python",
   "name": "python",
   "nbconvert_exporter": "python",
   "pygments_lexer": "ipython3",
   "version": "3.10.0"
  }
 },
 "nbformat": 4,
 "nbformat_minor": 2
}
