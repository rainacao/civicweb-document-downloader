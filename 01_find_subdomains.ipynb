{
 "cells": [
  {
   "cell_type": "code",
   "execution_count": null,
   "metadata": {},
   "outputs": [],
   "source": [
    "import civicweb_scraper\n",
    "\n",
    "import requests\n",
    "from requests_cache import CachedSession\n",
    "\n",
    "from selenium import webdriver\n",
    "from selenium.webdriver.common.by import By\n",
    "from selenium.common.exceptions import WebDriverException\n",
    "\n",
    "import logging\n",
    "import os\n",
    "import json\n",
    "from pprint import pprint\n",
    "import time"
   ]
  },
  {
   "cell_type": "code",
   "execution_count": null,
   "metadata": {},
   "outputs": [],
   "source": [
    "# logging.basicConfig(format='%(asctime)s - %(levelname)s:%(message)s', datefmt='%Y-%m-%d %H:%M:%S')\n",
    "logger = civicweb_scraper.logger_setup()\n",
    "# logger.setLevel(logging.DEBUG)\n",
    "logger.setLevel(logging.INFO)"
   ]
  },
  {
   "cell_type": "markdown",
   "metadata": {},
   "source": [
    "# Information about the final subdomains.json file\n",
    "To track the results from each website under the \"civicweb.net\" domain, we keep a dictionary of dictionaries as `subdomains_dict`. The keys to `subdomains_dict` should be the website's subdomain. `subdomains_dict[subdomain]` provides information to the dictionary. The only MANDATORY key within each dictionary is `subdomains_dict[subdomain][\"root_url\"]`, which should hold a stripped root url of the site, `https://<subdomain>.civicweb.net`. \n",
    "\n",
    "Make sure to clear all outputs before saving to Github!"
   ]
  },
  {
   "cell_type": "markdown",
   "metadata": {},
   "source": [
    "# Using Google Search API"
   ]
  },
  {
   "cell_type": "code",
   "execution_count": null,
   "metadata": {},
   "outputs": [],
   "source": [
    "# load existing subdomain information if available\n",
    "try:\n",
    "    google_scrape_results = json.load(open(f\"{civicweb_scraper.OUT_FOLDER}/subdomains.json\"))\n",
    "    logger.info(f\"Loaded in existing subdomains.json file.\")\n",
    "except:\n",
    "    google_scrape_results = {}\n",
    "    logger.info(f\"No existing subdomains.json file found in the {civicweb_scraper.OUT_FOLDER} folder.\")"
   ]
  },
  {
   "cell_type": "code",
   "execution_count": null,
   "metadata": {},
   "outputs": [],
   "source": [
    "session = civicweb_scraper.create_cache(\n",
    "    name=\"test_cache\", \n",
    "    expire_after=3600*24*14, \n",
    "    allowable_codes=[200] # only save successful requests\n",
    "    )"
   ]
  },
  {
   "cell_type": "markdown",
   "metadata": {},
   "source": [
    "# setting constants"
   ]
  },
  {
   "cell_type": "code",
   "execution_count": null,
   "metadata": {},
   "outputs": [],
   "source": [
    "# create a custom google search engine by following https://developers.google.com/custom-search/docs/tutorial/creatingcse\n",
    "GOOGLE_SEARCH_ENDPOINT = \"https://www.googleapis.com/customsearch/v1?\"\n",
    "GOOGLE_API_KEY = os.getenv('GOOGLE_API')\n",
    "GOOGLE_SEARCH_ENGINE_ID = os.getenv('GOOGLE_SEARCH_ENGINE_ID')"
   ]
  },
  {
   "cell_type": "code",
   "execution_count": null,
   "metadata": {},
   "outputs": [],
   "source": [
    "start_page = 0\n",
    "max_page = 20\n",
    "num_results_per_page = 10\n",
    "for page_index in range(start_page, max_page):\n",
    "    time.sleep(1) # wait for 1 second between each search\n",
    "    start_index = page_index*10+1\n",
    "    # search with query and result page\n",
    "    logger.info(f\"Scraping page {page_index} with results from {start_index} to {start_index+num_results_per_page-1}...\")\n",
    "\n",
    "    google_params = {\n",
    "        \"key\": GOOGLE_API_KEY, \n",
    "        \"cx\":GOOGLE_SEARCH_ENGINE_ID,\n",
    "        \"q\":\"site:civicweb.net\",\n",
    "        \"num\":num_results_per_page,\n",
    "        'start': start_index,\n",
    "        \"gl\":\"ca\"\n",
    "    }\n",
    "\n",
    "    try:\n",
    "        response = session.get(GOOGLE_SEARCH_ENDPOINT, params=google_params)\n",
    "        response.raise_for_status()\n",
    "        search_results = response.json()\n",
    "    except requests.exceptions.HTTPError as e:\n",
    "        logger.error(response.status_code)\n",
    "        continue\n",
    "\n",
    "    for item in search_results[\"items\"]:\n",
    "        logger.debug(f\"Looking at {item['link']}\")\n",
    "        if \".civicweb.net\" in item[\"link\"]:\n",
    "            subdomain = item[\"link\"].split(\".civicweb.net\")[0].split(\"https://\")[-1]\n",
    "            if subdomain in google_scrape_results:\n",
    "                logger.debug(f\"Already seen {subdomain}\")\n",
    "                continue\n",
    "            else:\n",
    "                logger.info(f\"Adding {subdomain} to results list\")\n",
    "                google_scrape_results[subdomain] = {\n",
    "                    \"root_url\": f\"https://{subdomain}.civicweb.net\",\n",
    "                    \"google_search_url\": item[\"link\"],\n",
    "                    \"title\": item[\"title\"],\n",
    "                    \"description\": item[\"snippet\"],\n",
    "                    }\n",
    "\n",
    "logger.info(f\"Found {len(google_scrape_results)} unique subdomains from the Google Search API.\")"
   ]
  },
  {
   "cell_type": "code",
   "execution_count": null,
   "metadata": {},
   "outputs": [],
   "source": [
    "pprint(google_scrape_results)"
   ]
  },
  {
   "cell_type": "code",
   "execution_count": null,
   "metadata": {},
   "outputs": [],
   "source": [
    "# save the newly found subdomains\n",
    "with open(civicweb_scraper.OUT_FOLDER / f\"subdomains.json\", \"w\") as f:\n",
    "    json.dump(google_scrape_results, f, indent=4)"
   ]
  },
  {
   "cell_type": "code",
   "execution_count": null,
   "metadata": {},
   "outputs": [],
   "source": [
    "try:\n",
    "    subdomains_dict = json.load(open(f\"{civicweb_scraper.OUT_FOLDER}/subdomains.json\"))\n",
    "    logger.info(f\"Loaded in existing subdomains.json file.\")\n",
    "except:\n",
    "    subdomains_dict = {}\n",
    "    logger.info(f\"No existing subdomains.json file found in the {civicweb_scraper.OUT_FOLDER} folder.\")\n",
    "\n",
    "# for subdomain in subdomains_dict.keys():\n",
    "subdomains_to_scrape = [\n",
    "    subdomain for subdomain in subdomains_dict.keys() \n",
    "    if \"complete\" not in subdomains_dict[subdomain] \n",
    "    or subdomains_dict[subdomain][\"complete\"] == False\n",
    "    ]\n",
    "\n",
    "subdomains_to_scrape"
   ]
  },
  {
   "cell_type": "markdown",
   "metadata": {},
   "source": [
    "# using Selenium with Bing"
   ]
  },
  {
   "cell_type": "code",
   "execution_count": null,
   "metadata": {},
   "outputs": [],
   "source": [
    "bing_links = []\n",
    "\n",
    "driver = webdriver.Firefox()\n",
    "max_page_number = 10 # max number of pages to scrape\n",
    "num_results_per_page = 10 # default number\n",
    "for page_index in range(max_page_number):\n",
    "\n",
    "    start_index = 1+page_index*num_results_per_page\n",
    "\n",
    "    logger.info(f\"Scraping page {page_index+1} with results from {start_index} to {start_index+num_results_per_page-1}...\")\n",
    "\n",
    "    bing_url = f'https://www.bing.com/search?q=site%3acivicweb.net&first={start_index}' \n",
    "\n",
    "    # get url of each page result\n",
    "    try:\n",
    "        driver.get(bing_url)\n",
    "        links = driver.find_elements(by=By.TAG_NAME, value=\"cite\")\n",
    "        logger.debug(links)\n",
    "        bing_links.extend([link.text for link in links])\n",
    "    except Exception as e:\n",
    "        logger.error(\"Error opening Bing page for scraping: \", str(e))\n",
    "        continue\n",
    "    finally:\n",
    "        driver.quit()\n",
    "    \n",
    "logger.info(f\"Bing scraping finished. Found {len(bing_links)} links.\")"
   ]
  },
  {
   "cell_type": "code",
   "execution_count": null,
   "metadata": {},
   "outputs": [],
   "source": [
    "bing_links"
   ]
  },
  {
   "cell_type": "code",
   "execution_count": null,
   "metadata": {},
   "outputs": [],
   "source": [
    "# result from previous scrapes\n",
    "bing_links = ['https://victoria.civicweb.net/Portal/Welcome.aspx',\n",
    " 'governmentjobs.com',\n",
    " 'tender.victoria.ca',\n",
    " 'melbourneflorida.org',\n",
    " 'victoriatx.gov',\n",
    " 'ci.victoria.mn.us',\n",
    " 'https://victoria.civicweb.net/Portal',\n",
    " 'victoria.civicweb.net',\n",
    " 'victoria.civicweb.net',\n",
    " 'https://tay.civicweb.net/Portal',\n",
    " 'https://terrace.civicweb.net/Portal/Default.aspx',\n",
    " 'https://cityofshawnee.civicweb.net/portal',\n",
    " 'https://loyalist.civicweb.net/portal',\n",
    " 'https://victoria.civicweb.net/user/signin',\n",
    " 'https://wetaskiwin.civicweb.net/Portal/Default.aspx',\n",
    " 'https://mclendon-chisholm.civicweb.net/Portal',\n",
    " 'https://revelstoke.civicweb.net/portal',\n",
    " 'https://victoria.civicweb.net/Portal',\n",
    " 'https://victoria.civicweb.net/Portal/Welcome.aspx',\n",
    " 'https://kamloops.civicweb.net/Portal/Default.aspx',\n",
    " 'https://cityofjerseycity.civicweb.net/Portal',\n",
    " 'https://wifn.civicweb.net/portal',\n",
    " 'https://nngov.civicweb.net/portal/members.aspx?id=10',\n",
    " 'https://centralelgin.civicweb.net',\n",
    " 'https://revelstoke.civicweb.net/portal',\n",
    " 'https://millcreek.civicweb.net/Portal',\n",
    " 'https://hartford.civicweb.net/Portal',\n",
    " 'https://otonabeesouthmonaghan.civicweb.net/Portal',\n",
    " 'https://greatermadawaska.civicweb.net/Portal/Welcome.aspx',\n",
    " 'https://springwater.civicweb.net/Portal',\n",
    " 'https://westnewyorknj.civicweb.net/Portal/Welcome.aspx',\n",
    " 'https://centralelgin.civicweb.net',\n",
    " 'https://lewes.civicweb.net/Portal',\n",
    " 'https://cityofshawnee.civicweb.net/portal',\n",
    " 'https://opkansas.civicweb.net/Portal',\n",
    " 'https://nngov.civicweb.net/portal/members.aspx?id=10',\n",
    " 'https://orillia.civicweb.net/Portal/Default.aspx',\n",
    " 'https://sequimwa.civicweb.net',\n",
    " 'https://loyalist.civicweb.net/portal',\n",
    " 'https://lawrenceks.civicweb.net/portal/members.aspx?id=10',\n",
    " 'https://powellriver.civicweb.net/Portal/MeetingSchedule.aspx',\n",
    " 'https://mclendon-chisholm.civicweb.net/Portal',\n",
    " 'https://sammamishwa.civicweb.net/Portal',\n",
    " 'https://peoriagov.civicweb.net/Portal/Video.aspx',\n",
    " 'https://marmoraandlake.civicweb.net/portal',\n",
    " 'https://cityofalice.civicweb.net/Portal/Default.aspx',\n",
    " 'https://wifn.civicweb.net/Portal/MeetingTypeList.aspx',\n",
    " 'https://cityofjerseycity.civicweb.net/Portal',\n",
    " 'https://countygp.civicweb.net/Portal',\n",
    " 'https://selkirk.civicweb.net/Portal',\n",
    " 'https://southfrontenac.civicweb.net/Portal',\n",
    " 'https://cloquet.civicweb.net',\n",
    " 'https://pinecitygovoffice.civicweb.net/Portal',\n",
    " 'https://wifn.civicweb.net/portal',\n",
    " 'https://sphosp.civicweb.net/user',\n",
    " 'https://centrewellington.civicweb.net/Portal',\n",
    " 'https://dallascounty.civicweb.net/Portal/VirtualLibrary.aspx',\n",
    " 'https://highriver.civicweb.net/filepro/document/48474/2024- spring-summer_ community...',\n",
    " 'https://citwentynine-palmsca.civicweb.net/portal',\n",
    " 'https://dallascounty.civicweb.net/portal',\n",
    " 'https://osoyoos.civicweb.net/filepro/documents/135633',\n",
    " 'https://ramara.civicweb.net/portal',\n",
    " 'https://terrace.civicweb.net/portal/members.aspx?id=11',\n",
    " 'https://petrolia.civicweb.net/Portal',\n",
    " 'https://timmins.civicweb.net/document/167053/ADM-2024-07-09-Admin Report-Housing …',\n",
    " 'https://williamsnd.civicweb.net/Portal',\n",
    " 'https://lacenter.civicweb.net/Portal',\n",
    " 'https://lawrenceks.civicweb.net/Portal/MeetingInformation.aspx?Org=Cal&Id=5599',\n",
    " 'https://codb.civicweb.net/Portal',\n",
    " 'https://woonsocketri.civicweb.net/portal',\n",
    " 'https://revelstoke.civicweb.net/portal',\n",
    " 'https://powellriver.civicweb.net/Portal',\n",
    " 'https://covinaca.civicweb.net/Portal',\n",
    " 'https://stlouisco.civicweb.net/portal/members.aspx?id=10',\n",
    " 'https://cityofholland.civicweb.net/Portal',\n",
    " 'https://tay.civicweb.net/Portal',\n",
    " 'https://cityofalice.civicweb.net/user',\n",
    " 'https://mindenhills.civicweb.net/Portal/MeetingTypeList.aspx',\n",
    " 'https://waverly.civicweb.net/Portal',\n",
    " 'https://englewoodgov.civicweb.net/Portal',\n",
    " 'https://winnipegsdca.civicweb.net/Portal/Welcome.aspx',\n",
    " 'https://washingtoncounty.civicweb.net/portal/members.aspx?id=10',\n",
    " 'https://timmins.civicweb.net/document/165147/PLN-2024-06-18-Admin Report-Tiny Hom…',\n",
    " 'https://hearst.civicweb.net/portal',\n",
    " 'https://kamloops.civicweb.net/portal',\n",
    " 'https://cityofbelmont.civicweb.net/portal',\n",
    " 'https://severn.civicweb.net/Portal/MeetingTypeList.aspx',\n",
    " 'https://lillooettribalcouncil.civicweb.net',\n",
    " 'https://stonemills.civicweb.net/portal',\n",
    " 'https://muskoka.civicweb.net/filepro/documents',\n",
    " 'https://codb.civicweb.net/Portal/Default.aspx',\n",
    " 'https://cityofrehoboth.civicweb.net/portal',\n",
    " 'https://walton.civicweb.net/Portal/MeetingSchedule.aspx',\n",
    " 'https://peachland.civicweb.net/filepro/documents/89371/?preview=89372',\n",
    " 'https://honeybrooktwp.civicweb.net/user/signin',\n",
    " 'https://cocookmn.civicweb.net/Portal',\n",
    " 'https://delta.civicweb.net/filepro/documents/224970',\n",
    " 'https://terrace.civicweb.net/Portal/Default.aspx',\n",
    " 'https://ponoka.civicweb.net/filepro/documents',\n",
    " 'https://kamloops.civicweb.net/Portal/MeetingSchedule.aspx',\n",
    " 'https://powellriver.civicweb.net/Portal/MeetingTypeList.aspx',\n",
    " 'https://cityofrehoboth.civicweb.net/filepro/documents',\n",
    " 'https://victoria.civicweb.net/Portal/Welcome.aspx',\n",
    " 'https://oakbay.civicweb.net/portal',\n",
    " 'https://hemetca.civicweb.net',\n",
    " 'https://victoria.civicweb.net/Portal',\n",
    " 'https://nr.civicweb.net/Portal',\n",
    " 'https://voluntown.civicweb.net/Portal/Default.aspx',\n",
    " 'https://strathmore.civicweb.net',\n",
    " 'https://cityofbowietx.civicweb.net',\n",
    " 'https://stlouisco.civicweb.net/Portal/Welcome.aspx',\n",
    " 'https://delavan.civicweb.net/portal',\n",
    " 'https://covinaca.civicweb.net/Portal/Welcome.aspx',\n",
    " 'https://indio.civicweb.net/Portal',\n",
    " 'https://camrose.civicweb.net/Portal/Default.aspx',\n",
    " 'https://hartford.civicweb.net/Portal',\n",
    " 'https://bracebridge.civicweb.net/document/15808']"
   ]
  },
  {
   "cell_type": "code",
   "execution_count": null,
   "metadata": {},
   "outputs": [],
   "source": [
    "find_subdomain = lambda url: url.split(\".civicweb.net\")[0].split(\"https://\")[-1]\n",
    "bing_scrape_results = {find_subdomain(url): {\"root_url\": f\"https://{find_subdomain(url)}.civicweb.net\",\"bing_search_url\":url} for url in bing_links if \".civicweb.net\" in url}"
   ]
  },
  {
   "cell_type": "code",
   "execution_count": null,
   "metadata": {},
   "outputs": [],
   "source": [
    "len(bing_scrape_results)"
   ]
  },
  {
   "cell_type": "code",
   "execution_count": null,
   "metadata": {},
   "outputs": [],
   "source": [
    "pprint(bing_scrape_results)"
   ]
  },
  {
   "cell_type": "markdown",
   "metadata": {},
   "source": [
    "# Merge the links found from Bing to the existing subdomains.json file"
   ]
  },
  {
   "cell_type": "code",
   "execution_count": null,
   "metadata": {},
   "outputs": [],
   "source": [
    "subdomains_dict = json.load(open(f\"{civicweb_scraper.OUT_FOLDER}/subdomains.json\"))\n",
    "logger.info(f\"Loaded in existing subdomains.json file.\")"
   ]
  },
  {
   "cell_type": "code",
   "execution_count": null,
   "metadata": {},
   "outputs": [],
   "source": [
    "len(set(bing_scrape_results.keys()) - set(subdomains_dict.keys()))"
   ]
  },
  {
   "cell_type": "code",
   "execution_count": null,
   "metadata": {},
   "outputs": [],
   "source": [
    "additional_bing_scrapes = {subdomain: bing_scrape_results[subdomain] for subdomain in set(bing_scrape_results.keys()) - set(subdomains_dict.keys())}"
   ]
  },
  {
   "cell_type": "code",
   "execution_count": null,
   "metadata": {},
   "outputs": [],
   "source": [
    "out_scrape_info = {**subdomains_dict, **additional_bing_scrapes}"
   ]
  },
  {
   "cell_type": "code",
   "execution_count": null,
   "metadata": {},
   "outputs": [],
   "source": [
    "pprint(out_scrape_info)"
   ]
  },
  {
   "cell_type": "code",
   "execution_count": null,
   "metadata": {},
   "outputs": [],
   "source": [
    "len(out_scrape_info)"
   ]
  },
  {
   "cell_type": "code",
   "execution_count": null,
   "metadata": {},
   "outputs": [],
   "source": [
    "with open(civicweb_scraper.OUT_FOLDER / f\"subdomains.json\", \"w\") as f:\n",
    "    json.dump(out_scrape_info, f, indent=4)"
   ]
  }
 ],
 "metadata": {
  "kernelspec": {
   "display_name": "civicweb_scraper",
   "language": "python",
   "name": "python3"
  },
  "language_info": {
   "codemirror_mode": {
    "name": "ipython",
    "version": 3
   },
   "file_extension": ".py",
   "mimetype": "text/x-python",
   "name": "python",
   "nbconvert_exporter": "python",
   "pygments_lexer": "ipython3",
   "version": "3.10.0"
  }
 },
 "nbformat": 4,
 "nbformat_minor": 2
}
