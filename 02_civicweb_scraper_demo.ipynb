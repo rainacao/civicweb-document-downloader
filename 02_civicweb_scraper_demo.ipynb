{
 "cells": [
  {
   "cell_type": "code",
   "execution_count": 1,
   "metadata": {},
   "outputs": [
    {
     "data": {
      "text/plain": [
       "True"
      ]
     },
     "execution_count": 1,
     "metadata": {},
     "output_type": "execute_result"
    }
   ],
   "source": [
    "import civicweb_scraper\n",
    "\n",
    "import requests\n",
    "from requests_cache import CachedSession\n",
    "from requests_cache import Request\n",
    "\n",
    "from collections import deque\n",
    "\n",
    "from bs4 import BeautifulSoup\n",
    "from selenium import webdriver\n",
    "from selenium.webdriver.common.by import By\n",
    "from selenium.common.exceptions import WebDriverException\n",
    "\n",
    "import pandas as pd\n",
    "import json\n",
    "from csv import DictReader\n",
    "\n",
    "import time\n",
    "from datetime import datetime\n",
    "import logging\n",
    "import traceback\n",
    "from tqdm import tqdm\n",
    "\n",
    "import os\n",
    "from dotenv import load_dotenv\n",
    "load_dotenv()"
   ]
  },
  {
   "cell_type": "markdown",
   "metadata": {},
   "source": [
    "# Create/Modify Cache and Logger"
   ]
  },
  {
   "cell_type": "code",
   "execution_count": 5,
   "metadata": {},
   "outputs": [
    {
     "name": "stderr",
     "output_type": "stream",
     "text": [
      "2024-07-30 17:36:36 - INFO:Getting cache with name test_cache which will expire after 1209600 seconds.\n"
     ]
    }
   ],
   "source": [
    "session = civicweb_scraper.create_cache(\n",
    "    name=\"test_cache\", \n",
    "    expire_after=3600*24*14, \n",
    "    allowable_codes=[200] # only save successful requests\n",
    "    )"
   ]
  },
  {
   "cell_type": "code",
   "execution_count": null,
   "metadata": {},
   "outputs": [],
   "source": [
    "##### LOGGER SETUP\n",
    "# logging.basicConfig(format='%(asctime)s - %(levelname)s:%(message)s', datefmt='%Y-%m-%d %H:%M:%S')\n",
    "logger = civicweb_scraper.logger_setup()"
   ]
  },
  {
   "cell_type": "code",
   "execution_count": null,
   "metadata": {},
   "outputs": [],
   "source": [
    "# logger.setLevel(logging.DEBUG)\n",
    "logger.setLevel(logging.INFO)"
   ]
  },
  {
   "cell_type": "markdown",
   "metadata": {},
   "source": [
    "# Get all websites with domain `civicweb.net`"
   ]
  },
  {
   "cell_type": "code",
   "execution_count": null,
   "metadata": {},
   "outputs": [],
   "source": [
    "# load existing subdomain information if available\n",
    "try:\n",
    "    subdomain_dict = json.load(open(f\"{civicweb_scraper.OUT_FOLDER}/subdomains.json\"))\n",
    "    logger.info(f\"Loaded in existing subdomains.json file.\")\n",
    "except:\n",
    "    subdomain_dict = {}\n",
    "    logger.info(f\"No existing subdomains.json file found in the {civicweb_scraper.OUT_FOLDER} folder.\")"
   ]
  },
  {
   "cell_type": "markdown",
   "metadata": {},
   "source": [
    "# Scrape documents from each subdomain"
   ]
  },
  {
   "cell_type": "code",
   "execution_count": null,
   "metadata": {},
   "outputs": [],
   "source": [
    "for subdomain in ['dev', 'victoria', 'notl']:\n",
    "    num_documents = civicweb_scraper.scrape_site(session, subdomain)\n",
    "    \n",
    "    subdomain_dict[subdomain][\"document_count\"] = num_documents"
   ]
  }
 ],
 "metadata": {
  "kernelspec": {
   "display_name": "civicweb_scraper",
   "language": "python",
   "name": "python3"
  },
  "language_info": {
   "codemirror_mode": {
    "name": "ipython",
    "version": 3
   },
   "file_extension": ".py",
   "mimetype": "text/x-python",
   "name": "python",
   "nbconvert_exporter": "python",
   "pygments_lexer": "ipython3",
   "version": "3.10.0"
  }
 },
 "nbformat": 4,
 "nbformat_minor": 2
}
